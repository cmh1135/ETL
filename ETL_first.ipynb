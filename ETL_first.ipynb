{
 "cells": [
  {
   "cell_type": "markdown",
   "id": "b7de48d0",
   "metadata": {},
   "source": [
    "## Extract, Transform, Load (ETL) Project\n"
   ]
  },
  {
   "cell_type": "markdown",
   "id": "0a84a5c1",
   "metadata": {},
   "source": [
    "Data was sourced from openFDA - the US Food and Drug Administration (USFDA) API. We selected animal and veterinary API endpoints. The available API was the Adverse Event Report. During our EDA project, we selected data on a small set of attributes of cats, recorded from 1987-2021. However, the same code no longer would run so we switched to selecting data on dogs. \n",
    "\n",
    "We obtained an API key, defined a base url, an made API calls. The output was converted to json format. The key was not used for most of the data retrieval. Data extraction was facilitated by a loop.  The original 750 records were stored in a dataframe and also saved as a .csv file.\n",
    "\n",
    "Our dataframe comprises reports of incidents where drug exposure resulted in adverse reactions in dogs. After inspecting the variables, we trimmed the dataframe to a set of ??? records. We didn't filter it down as much for the dogs dataset that we had for the cats. "
   ]
  },
  {
   "cell_type": "markdown",
   "id": "18433b89",
   "metadata": {},
   "source": [
    "### Retrieving data and creating dataframe"
   ]
  },
  {
   "cell_type": "code",
   "execution_count": 1,
   "id": "092c3521",
   "metadata": {},
   "outputs": [],
   "source": [
    "#Setting dependencies\n",
    "\n",
    "import numpy as np\n",
    "import pandas as pd\n",
    "\n",
    "import json\n",
    "import requests\n",
    "import time\n",
    "\n",
    "import matplotlib.pyplot as plt\n",
    "from pandas.plotting import table\n",
    "from pprint import pprint\n",
    "import seaborn as sns\n",
    "\n",
    "# Import API key\n",
    "\n",
    "from api_keys import api_key"
   ]
  },
  {
   "cell_type": "code",
   "execution_count": 2,
   "id": "b46588e7",
   "metadata": {},
   "outputs": [
    {
     "name": "stdout",
     "output_type": "stream",
     "text": [
      "{'species': ['Dog'], 'gender': ['Female'], 'age': ['10.00'], 'weight': ['5.900'], 'breed': ['Poodle (unspecified)'], 'drug': ['Spinosad'], 'outcome': ['Recovered/Normal'], 'date_in': ['20120627'], 'react_term_code': ['334'], 'react_term_name': ['Vomiting'], 'first_exp_da': ['20120601'], 'last_exp_da': ['20120702'], 'admin_by': ['Animal Owner'], 'route': ['Oral'], 'dosage_form': ['Tablet, chewable']}\n"
     ]
    }
   ],
   "source": [
    "#creating empty dictionary to store extracted data\n",
    "\n",
    "cats_data = {'species':[],\n",
    "                'gender':[],\n",
    "                'age':[],\n",
    "                'weight':[],\n",
    "                'breed':[],\n",
    "                'drug':[],\n",
    "                'outcome':[],\n",
    "                'date_in':[],\n",
    "                'react_term_code':[],\n",
    "                'react_term_name':[],\n",
    "                'first_exp_da':[],\n",
    "                'last_exp_da':[],\n",
    "                'admin_by':[],\n",
    "                'route':[],\n",
    "                'dosage_form':[]}\n",
    "\n",
    "#verifying search on Cat species \n",
    "\n",
    "#base_url = \"https://api.fda.gov/animalandveterinary/event.json?search=animal.species=Cat'\"\n",
    "#base_url = \"https://api.fda.gov/animalandveterinary/event.json?search=animal.species=Cat+(animal.breed.breed_component='Domestic Shorthair'+OR+animal.breed.breed_component='Domestic Longhair')\"\n",
    "#base_url = \"https://api.fda.gov/animalandveterinary/event.json?search=animal.species=Cat+(animal.breed.breed_component='Crossbred Feline')\"\n",
    "base_url = \"https://api.fda.gov/animalandveterinary/event.json?search=animal.breed.breed_component<>'Unknown'\"\n",
    "req = requests.get(base_url)\n",
    "data = req.json()\n",
    "\n",
    "#add 1 row to the cats_data dictionary with information extracted - limit for this api call is 1 result\n",
    "\n",
    "cats_data['species'].append(data['results'][0]['animal']['species'])\n",
    "cats_data['gender'].append(data['results'][0]['animal']['gender'])\n",
    "cats_data['age'].append(data['results'][0]['animal']['age']['min'])\n",
    "cats_data['weight'].append(data['results'][0]['animal']['weight']['min'])\n",
    "cats_data['breed'].append(data['results'][0]['animal']['breed']['breed_component'])\n",
    "cats_data['drug'].append(data['results'][0]['drug'][0]['active_ingredients'][0]['name'])\n",
    "cats_data['outcome'].append(data['results'][0]['outcome'][0]['medical_status'])\n",
    "\n",
    "cats_data['date_in'].append(data['results'][0]['original_receive_date'])\n",
    "cats_data['react_term_code'].append(data['results'][0]['reaction'][0]['veddra_term_code'])\n",
    "cats_data['react_term_name'].append(data['results'][0]['reaction'][0]['veddra_term_name'])\n",
    "cats_data['first_exp_da'].append(data['results'][0]['drug'][0]['first_exposure_date'])\n",
    "cats_data['last_exp_da'].append(data['results'][0]['drug'][0]['last_exposure_date'])\n",
    "cats_data['admin_by'].append(data['results'][0]['drug'][0]['administered_by'])\n",
    "cats_data['route'].append(data['results'][0]['drug'][0]['route'])\n",
    "cats_data['dosage_form'].append(data['results'][0]['drug'][0]['dosage_form'])\n",
    "print(cats_data)"
   ]
  },
  {
   "cell_type": "code",
   "execution_count": 3,
   "id": "5c6c3e94",
   "metadata": {},
   "outputs": [],
   "source": [
    "# This url returns only the first match, so we used a loop to skip entries and pick up another one.otherwise the \n",
    "# same one is returned every time.\n",
    "# Returning 750 results runs for a bit of time but will provide us with more data to look at/scrub\n",
    "\n",
    "cats_data = {'species':[],\n",
    "                'gender':[],\n",
    "                'age':[],\n",
    "                'weight':[],\n",
    "                'breed':[],\n",
    "                'drug':[],\n",
    "                'outcome':[],\n",
    "                'date_in':[],\n",
    "                'react_term_code':[],\n",
    "                'react_term_name':[],\n",
    "                'first_exp_da':[],\n",
    "                'last_exp_da':[],\n",
    "                'admin_by':[],\n",
    "                'route':[],\n",
    "                'dosage_form':[]}\n",
    "#base_url = \"https://api.fda.gov/animalandveterinary/event.json?search=animal.species=Cat'\"\n",
    "base_url = \"https://api.fda.gov/animalandveterinary/event.json?search=animal.breed.breed_component<>'Unknown'\"\n",
    "# NB: It turns out that the API key was unnecessary - the + api_key part of the call was not copied, and the call was successful. These data were extracted without using the key.\n",
    "\n",
    "counter = 1\n",
    "for i in range(750):\n",
    "    req = requests.get(base_url)\n",
    "    data = req.json()\n",
    "\n",
    "    # validate the data, if age and weight don't exist, replace with 0. If date fields don't exist, replace with nan.\n",
    "    # For all other fields that don't exist, replace with 'Unknown'. \n",
    "    try:\n",
    "        cats_data['age'].append(data['results'][0]['animal']['age']['min'])\n",
    "    except:\n",
    "        cats_data['age'].append('0')\n",
    "    \n",
    "    try:\n",
    "        cats_data['weight'].append(data['results'][0]['animal']['weight']['min'])\n",
    "    except:\n",
    "        cats_data['weight'].append('0')\n",
    "\n",
    "    try:\n",
    "        cats_data['outcome'].append(data['results'][0]['outcome'][0]['medical_status'])\n",
    "    except:\n",
    "        cats_data['outcome'].append('Unknown')\n",
    "    \n",
    "    try:\n",
    "        cats_data['date_in'].append(data['results'][0]['original_receive_date'])\n",
    "    except:\n",
    "        cats_data['date_in'].append(np.nan)\n",
    "\n",
    "    try:\n",
    "        cats_data['species'].append(data['results'][0]['animal']['species'])\n",
    "    except:\n",
    "        cats_data['species'].append('Unknown')\n",
    "        \n",
    "    try:\n",
    "        cats_data['gender'].append(data['results'][0]['animal']['gender'])\n",
    "    except:\n",
    "        cats_data['gender'].append('Unknown')\n",
    "    \n",
    "    try:\n",
    "        cats_data['breed'].append(data['results'][0]['animal']['breed']['breed_component'])\n",
    "    except:\n",
    "        cats_data['breed'].append('Unknown')\n",
    "    \n",
    "    try:\n",
    "        cats_data['drug'].append(data['results'][0]['drug'][0]['active_ingredients'][0]['name'])\n",
    "    except:\n",
    "        cats_data['drug'].append('Unknown')\n",
    "        \n",
    "    try:    \n",
    "        cats_data['react_term_code'].append(data['results'][0]['reaction'][0]['veddra_term_code'])\n",
    "    except:\n",
    "        cats_data['react_term_code'].append('Unknown')\n",
    "    \n",
    "    try:\n",
    "        cats_data['react_term_name'].append(data['results'][0]['reaction'][0]['veddra_term_name'])\n",
    "    except:\n",
    "        cats_data['react_term_name'].append('Unknown')\n",
    "    \n",
    "    try:\n",
    "        cats_data['first_exp_da'].append(data['results'][0]['drug'][0]['first_exposure_date'])\n",
    "    except:\n",
    "        cats_data['first_exp_da'].append(np.nan)\n",
    "        \n",
    "    try: \n",
    "        cats_data['last_exp_da'].append(data['results'][0]['drug'][0]['last_exposure_date'])\n",
    "    except:\n",
    "        cats_data['last_exp_da'].append(np.nan)\n",
    "        \n",
    "    try:\n",
    "        cats_data['admin_by'].append(data['results'][0]['drug'][0]['administered_by'])\n",
    "    except:\n",
    "        cats_data['admin_by'].append('Unknown')\n",
    "        \n",
    "    try:\n",
    "        cats_data['route'].append(data['results'][0]['drug'][0]['route'])\n",
    "    except:\n",
    "        cats_data['route'].append('Unknown')\n",
    "        \n",
    "    try:\n",
    "        cats_data['dosage_form'].append(data['results'][0]['drug'][0]['dosage_form'])\n",
    "    except:\n",
    "        cats_data['dosage_form'].append('Unknown')\n",
    "        \n",
    "    counter +=1\n",
    "    #counter is converted to a string and used as a skip value for gathering random records\n",
    "    str_count = str(counter)\n",
    "    #base_url = \"https://api.fda.gov/animalandveterinary/event.json?search=animal.species=Cat+(animal.breed.breed_component='Domestic Shorthair'+OR+animal.breed.breed_component='Domestic Longhair')&skip=\" + str_count\n",
    "    #base_url = \"https://api.fda.gov/animalandveterinary/event.json?search=animal.species=Cat'&skip=\" + str_count\n",
    "    base_url = \"https://api.fda.gov/animalandveterinary/event.json?search=animal.breed.breed_component<>'Unknown'&skip=\" + str_count"
   ]
  },
  {
   "cell_type": "code",
   "execution_count": 5,
   "id": "133d59ac",
   "metadata": {},
   "outputs": [
    {
     "name": "stdout",
     "output_type": "stream",
     "text": [
      "<class 'pandas.core.frame.DataFrame'>\n",
      "RangeIndex: 750 entries, 0 to 749\n",
      "Data columns (total 15 columns):\n",
      " #   Column           Non-Null Count  Dtype \n",
      "---  ------           --------------  ----- \n",
      " 0   species          750 non-null    object\n",
      " 1   gender           750 non-null    object\n",
      " 2   age              750 non-null    object\n",
      " 3   weight           750 non-null    object\n",
      " 4   breed            750 non-null    object\n",
      " 5   drug             750 non-null    object\n",
      " 6   outcome          750 non-null    object\n",
      " 7   date_in          750 non-null    object\n",
      " 8   react_term_code  750 non-null    object\n",
      " 9   react_term_name  750 non-null    object\n",
      " 10  first_exp_da     687 non-null    object\n",
      " 11  last_exp_da      655 non-null    object\n",
      " 12  admin_by         750 non-null    object\n",
      " 13  route            750 non-null    object\n",
      " 14  dosage_form      750 non-null    object\n",
      "dtypes: object(15)\n",
      "memory usage: 88.0+ KB\n"
     ]
    }
   ],
   "source": [
    "# converting the raw data in the cats dictionary to a dataframe and writing it out to a csv file - mainly because it takes\n",
    "# a while to run so if the dataframe gets messed up, it can be read from the file instead of running the api again\n",
    "\n",
    "cat_df = pd.DataFrame.from_dict(cats_data)\n",
    "cat_df.to_csv(\"cat_data.csv\",index=False)\n",
    "\n",
    "#print the info of the dataframe\n",
    "\n",
    "cat_df.info()"
   ]
  },
  {
   "cell_type": "code",
   "execution_count": 16,
   "id": "46f9be16",
   "metadata": {},
   "outputs": [],
   "source": [
    "# read the csv file in \n",
    "# changing to just use dogs soon so naming the dataframe appropriately\n",
    "dog_df = pd.read_csv('cat_data.csv')"
   ]
  },
  {
   "cell_type": "markdown",
   "id": "109af44b",
   "metadata": {},
   "source": [
    "#### Begin data analysis and pre-processing"
   ]
  },
  {
   "cell_type": "code",
   "execution_count": 17,
   "id": "821b937f",
   "metadata": {},
   "outputs": [
    {
     "data": {
      "text/plain": [
       "Dog              629\n",
       "Cat               61\n",
       "Horse             19\n",
       "Cattle            17\n",
       "Human             13\n",
       "Pig                3\n",
       "Unknown            2\n",
       "Chicken            2\n",
       "Turkey             1\n",
       "Mouse              1\n",
       "Other Birds        1\n",
       "Other Mammals      1\n",
       "Name: species, dtype: int64"
      ]
     },
     "execution_count": 17,
     "metadata": {},
     "output_type": "execute_result"
    }
   ],
   "source": [
    "dog_df['species'].value_counts()"
   ]
  },
  {
   "cell_type": "markdown",
   "id": "c31f1381",
   "metadata": {},
   "source": [
    "We are just going with dogs this time around so dropping the remaining species."
   ]
  },
  {
   "cell_type": "code",
   "execution_count": 18,
   "id": "c7fc307c",
   "metadata": {},
   "outputs": [
    {
     "name": "stdout",
     "output_type": "stream",
     "text": [
      "<class 'pandas.core.frame.DataFrame'>\n",
      "RangeIndex: 750 entries, 0 to 749\n",
      "Data columns (total 15 columns):\n",
      " #   Column           Non-Null Count  Dtype  \n",
      "---  ------           --------------  -----  \n",
      " 0   species          750 non-null    object \n",
      " 1   gender           750 non-null    object \n",
      " 2   age              750 non-null    float64\n",
      " 3   weight           750 non-null    float64\n",
      " 4   breed            750 non-null    object \n",
      " 5   drug             750 non-null    object \n",
      " 6   outcome          750 non-null    object \n",
      " 7   date_in          750 non-null    int64  \n",
      " 8   react_term_code  750 non-null    int64  \n",
      " 9   react_term_name  750 non-null    object \n",
      " 10  first_exp_da     687 non-null    float64\n",
      " 11  last_exp_da      655 non-null    float64\n",
      " 12  admin_by         750 non-null    object \n",
      " 13  route            750 non-null    object \n",
      " 14  dosage_form      750 non-null    object \n",
      "dtypes: float64(4), int64(2), object(9)\n",
      "memory usage: 88.0+ KB\n"
     ]
    }
   ],
   "source": [
    "dog_df.info()"
   ]
  },
  {
   "cell_type": "code",
   "execution_count": 19,
   "id": "9407851a",
   "metadata": {},
   "outputs": [
    {
     "data": {
      "text/plain": [
       "Dog    629\n",
       "Name: species, dtype: int64"
      ]
     },
     "execution_count": 19,
     "metadata": {},
     "output_type": "execute_result"
    }
   ],
   "source": [
    "dog_df.drop(dog_df.index[dog_df['species'] != 'Dog'], inplace = True)\n",
    "dog_df['species'].value_counts()"
   ]
  },
  {
   "cell_type": "markdown",
   "id": "ff9e169a",
   "metadata": {},
   "source": [
    "Start looking at age and weight - to see about dropping those that are 0, since those were unknown's from the api pull"
   ]
  },
  {
   "cell_type": "code",
   "execution_count": 20,
   "id": "9bbddfbb",
   "metadata": {},
   "outputs": [
    {
     "data": {
      "text/plain": [
       "0.00     82\n",
       "2.00     55\n",
       "3.00     52\n",
       "4.00     43\n",
       "7.00     43\n",
       "8.00     42\n",
       "5.00     41\n",
       "6.00     39\n",
       "10.00    35\n",
       "11.00    26\n",
       "9.00     23\n",
       "1.00     22\n",
       "12.00    17\n",
       "13.00    17\n",
       "14.00    15\n",
       "15.00    10\n",
       "16.00     7\n",
       "1.50      6\n",
       "17.00     5\n",
       "22.00     4\n",
       "4.50      4\n",
       "18.00     3\n",
       "21.00     3\n",
       "2.50      3\n",
       "1.30      3\n",
       "6.50      2\n",
       "1.25      2\n",
       "3.50      2\n",
       "2.40      1\n",
       "8.75      1\n",
       "3.75      1\n",
       "12.50     1\n",
       "9.70      1\n",
       "12.70     1\n",
       "9.80      1\n",
       "2.90      1\n",
       "19.00     1\n",
       "4.30      1\n",
       "4.20      1\n",
       "23.00     1\n",
       "11.50     1\n",
       "10.80     1\n",
       "4.90      1\n",
       "7.50      1\n",
       "5.50      1\n",
       "20.00     1\n",
       "1.20      1\n",
       "10.50     1\n",
       "16.50     1\n",
       "6.40      1\n",
       "9.60      1\n",
       "Name: age, dtype: int64"
      ]
     },
     "execution_count": 20,
     "metadata": {},
     "output_type": "execute_result"
    }
   ],
   "source": [
    "dog_df['age'].value_counts()"
   ]
  },
  {
   "cell_type": "markdown",
   "id": "de8b51af",
   "metadata": {},
   "source": [
    "Need to drop the dogs with 0 age. Once those are dropped, the age column will be changed to int to combine more of the ages together."
   ]
  },
  {
   "cell_type": "code",
   "execution_count": 21,
   "id": "5cd2848c",
   "metadata": {},
   "outputs": [
    {
     "data": {
      "text/plain": [
       "count    547.000000\n",
       "mean       7.027971\n",
       "std        4.516529\n",
       "min        1.000000\n",
       "25%        3.000000\n",
       "50%        6.000000\n",
       "75%       10.000000\n",
       "max       23.000000\n",
       "Name: age, dtype: float64"
      ]
     },
     "execution_count": 21,
     "metadata": {},
     "output_type": "execute_result"
    }
   ],
   "source": [
    "dog_df.drop(dog_df.index[dog_df['age'] == 0], inplace = True)\n",
    "dog_df['age'].describe()"
   ]
  },
  {
   "cell_type": "code",
   "execution_count": 22,
   "id": "08e35805",
   "metadata": {},
   "outputs": [
    {
     "data": {
      "text/plain": [
       "2     60\n",
       "3     55\n",
       "4     50\n",
       "7     44\n",
       "8     43\n",
       "5     42\n",
       "6     42\n",
       "10    37\n",
       "1     34\n",
       "11    27\n",
       "9     26\n",
       "12    19\n",
       "13    17\n",
       "14    15\n",
       "15    10\n",
       "16     8\n",
       "17     5\n",
       "22     4\n",
       "21     3\n",
       "18     3\n",
       "20     1\n",
       "23     1\n",
       "19     1\n",
       "Name: age, dtype: int64"
      ]
     },
     "execution_count": 22,
     "metadata": {},
     "output_type": "execute_result"
    }
   ],
   "source": [
    "dog_df[[\"age\"]] = dog_df[[\"age\"]].astype(int)\n",
    "dog_df['age'].value_counts()"
   ]
  },
  {
   "cell_type": "markdown",
   "id": "9916f8a3",
   "metadata": {},
   "source": [
    "Time to evaluate the weight field - dropping the ones with zeroes. Also changing this to int in order to combine weights."
   ]
  },
  {
   "cell_type": "code",
   "execution_count": 23,
   "id": "56d9f68f",
   "metadata": {},
   "outputs": [
    {
     "data": {
      "text/plain": [
       "0.000     14\n",
       "6.800      9\n",
       "11.340     7\n",
       "3.629      6\n",
       "4.990      6\n",
       "          ..\n",
       "4.763      1\n",
       "6.033      1\n",
       "3.402      1\n",
       "12.000     1\n",
       "6.010      1\n",
       "Name: weight, Length: 343, dtype: int64"
      ]
     },
     "execution_count": 23,
     "metadata": {},
     "output_type": "execute_result"
    }
   ],
   "source": [
    "dog_df['weight'].value_counts()"
   ]
  },
  {
   "cell_type": "code",
   "execution_count": 24,
   "id": "24a7af96",
   "metadata": {},
   "outputs": [
    {
     "data": {
      "text/plain": [
       "count    533.000000\n",
       "mean      18.705396\n",
       "std       13.339007\n",
       "min        0.573000\n",
       "25%        7.031000\n",
       "50%       15.876000\n",
       "75%       28.580000\n",
       "max       72.575000\n",
       "Name: weight, dtype: float64"
      ]
     },
     "execution_count": 24,
     "metadata": {},
     "output_type": "execute_result"
    }
   ],
   "source": [
    "dog_df.drop(dog_df.index[dog_df['weight'] == 0], inplace = True)\n",
    "dog_df['weight'].describe()"
   ]
  },
  {
   "cell_type": "code",
   "execution_count": 26,
   "id": "ec1e69cf",
   "metadata": {},
   "outputs": [
    {
     "data": {
      "text/plain": [
       "9     31\n",
       "4     30\n",
       "6     26\n",
       "3     24\n",
       "5     23\n",
       "2     23\n",
       "7     20\n",
       "8     18\n",
       "27    18\n",
       "30    15\n",
       "18    13\n",
       "24    13\n",
       "32    13\n",
       "10    13\n",
       "11    13\n",
       "15    13\n",
       "28    12\n",
       "19    12\n",
       "17    12\n",
       "29    12\n",
       "34    11\n",
       "31    11\n",
       "14    11\n",
       "12    10\n",
       "26    10\n",
       "33     9\n",
       "20     9\n",
       "13     9\n",
       "22     9\n",
       "39     8\n",
       "35     8\n",
       "23     8\n",
       "25     6\n",
       "1      6\n",
       "38     6\n",
       "16     5\n",
       "40     5\n",
       "36     5\n",
       "43     4\n",
       "45     3\n",
       "42     3\n",
       "37     3\n",
       "46     3\n",
       "58     3\n",
       "44     2\n",
       "52     2\n",
       "21     2\n",
       "67     1\n",
       "48     1\n",
       "53     1\n",
       "0      1\n",
       "41     1\n",
       "50     1\n",
       "62     1\n",
       "72     1\n",
       "Name: weight, dtype: int64"
      ]
     },
     "execution_count": 26,
     "metadata": {},
     "output_type": "execute_result"
    }
   ],
   "source": [
    "dog_df[[\"weight\"]] = dog_df[[\"weight\"]].astype(int)\n",
    "dog_df['weight'].value_counts()"
   ]
  },
  {
   "cell_type": "markdown",
   "id": "ceafef57",
   "metadata": {},
   "source": [
    "Changing to int cause a 0 to show again so dropping it"
   ]
  },
  {
   "cell_type": "code",
   "execution_count": 27,
   "id": "113084e7",
   "metadata": {},
   "outputs": [],
   "source": [
    "dog_df.drop(dog_df.index[dog_df['weight'] == 0], inplace = True)"
   ]
  },
  {
   "cell_type": "markdown",
   "id": "18abe52a",
   "metadata": {},
   "source": [
    "Look at the 3 date fields next. First_exp_da and last_exp_da have some nulls. Dropping those to see what is left."
   ]
  },
  {
   "cell_type": "code",
   "execution_count": 28,
   "id": "4951abef",
   "metadata": {},
   "outputs": [
    {
     "data": {
      "text/plain": [
       "36"
      ]
     },
     "execution_count": 28,
     "metadata": {},
     "output_type": "execute_result"
    }
   ],
   "source": [
    "dog_df['last_exp_da'].isnull().sum()"
   ]
  },
  {
   "cell_type": "code",
   "execution_count": 29,
   "id": "ba4c867c",
   "metadata": {},
   "outputs": [],
   "source": [
    "dog_df.dropna(inplace=True)"
   ]
  },
  {
   "cell_type": "markdown",
   "id": "67c3f34c",
   "metadata": {},
   "source": [
    "Dropping the nulls leaves 494 rows in the dog_df dataframe"
   ]
  },
  {
   "cell_type": "code",
   "execution_count": 30,
   "id": "c68eecb9",
   "metadata": {},
   "outputs": [
    {
     "name": "stdout",
     "output_type": "stream",
     "text": [
      "<class 'pandas.core.frame.DataFrame'>\n",
      "Int64Index: 494 entries, 0 to 749\n",
      "Data columns (total 15 columns):\n",
      " #   Column           Non-Null Count  Dtype  \n",
      "---  ------           --------------  -----  \n",
      " 0   species          494 non-null    object \n",
      " 1   gender           494 non-null    object \n",
      " 2   age              494 non-null    int32  \n",
      " 3   weight           494 non-null    int32  \n",
      " 4   breed            494 non-null    object \n",
      " 5   drug             494 non-null    object \n",
      " 6   outcome          494 non-null    object \n",
      " 7   date_in          494 non-null    int64  \n",
      " 8   react_term_code  494 non-null    int64  \n",
      " 9   react_term_name  494 non-null    object \n",
      " 10  first_exp_da     494 non-null    float64\n",
      " 11  last_exp_da      494 non-null    float64\n",
      " 12  admin_by         494 non-null    object \n",
      " 13  route            494 non-null    object \n",
      " 14  dosage_form      494 non-null    object \n",
      "dtypes: float64(2), int32(2), int64(2), object(9)\n",
      "memory usage: 57.9+ KB\n"
     ]
    }
   ],
   "source": [
    "dog_df.info()"
   ]
  },
  {
   "cell_type": "markdown",
   "id": "a906038d",
   "metadata": {},
   "source": [
    "### DATA FRAME WRANGLING"
   ]
  },
  {
   "cell_type": "markdown",
   "id": "eb51e356",
   "metadata": {},
   "source": [
    "Continuing clean up of the dataframe"
   ]
  },
  {
   "cell_type": "code",
   "execution_count": 31,
   "id": "142c74c9",
   "metadata": {},
   "outputs": [
    {
     "data": {
      "text/plain": [
       "Outcome Unknown           274\n",
       "Recovered/Normal          131\n",
       "Ongoing                    53\n",
       "Recovered with Sequela     26\n",
       "Died                        6\n",
       "Euthanized                  4\n",
       "Name: outcome, dtype: int64"
      ]
     },
     "execution_count": 31,
     "metadata": {},
     "output_type": "execute_result"
    }
   ],
   "source": [
    "dog_df['outcome'].value_counts()"
   ]
  },
  {
   "cell_type": "code",
   "execution_count": 32,
   "id": "100f4784",
   "metadata": {},
   "outputs": [
    {
     "data": {
      "text/plain": [
       "Retriever - Labrador                                45\n",
       "Crossbred Canine/dog                                33\n",
       "Chihuahua                                           18\n",
       "Beagle                                              15\n",
       "Shepherd Dog - German                               15\n",
       "                                                    ..\n",
       "['Pointer (unspecified)', 'Dog (unknown)']           1\n",
       "['Terrier (unspecified)', 'Dog (other)']             1\n",
       "['Shepherd Dog - German', 'Crustacea (unknown)']     1\n",
       "Terrier - Cairn                                      1\n",
       "Schipperke                                           1\n",
       "Name: breed, Length: 152, dtype: int64"
      ]
     },
     "execution_count": 32,
     "metadata": {},
     "output_type": "execute_result"
    }
   ],
   "source": [
    "dog_df['breed'].value_counts()"
   ]
  },
  {
   "cell_type": "markdown",
   "id": "44c6b806",
   "metadata": {},
   "source": [
    "There's a lot of strange characters in the breed name. Try to strip them out first before putting the breeds together."
   ]
  },
  {
   "cell_type": "code",
   "execution_count": 33,
   "id": "4e153bb2",
   "metadata": {},
   "outputs": [],
   "source": [
    "dog_df['breed'] = dog_df['breed'].str.strip('[]')\n",
    "dog_df['breed'] = dog_df['breed'].str.strip('()')\n"
   ]
  },
  {
   "cell_type": "code",
   "execution_count": 34,
   "id": "670afb2b",
   "metadata": {},
   "outputs": [
    {
     "data": {
      "text/plain": [
       "Retriever - Labrador                              45\n",
       "Crossbred Canine/dog                              33\n",
       "Chihuahua                                         18\n",
       "Beagle                                            15\n",
       "Shepherd Dog - German                             15\n",
       "                                                  ..\n",
       "'Pointer (unspecified)', 'Dog (unknown)'           1\n",
       "'Terrier (unspecified)', 'Dog (other)'             1\n",
       "'Shepherd Dog - German', 'Crustacea (unknown)'     1\n",
       "Terrier - Cairn                                    1\n",
       "Schipperke                                         1\n",
       "Name: breed, Length: 152, dtype: int64"
      ]
     },
     "execution_count": 34,
     "metadata": {},
     "output_type": "execute_result"
    }
   ],
   "source": [
    "dog_df['breed'].value_counts()"
   ]
  },
  {
   "cell_type": "markdown",
   "id": "3f27bfa1",
   "metadata": {},
   "source": [
    "Going to spend some time cleaning up the breed names to group them together."
   ]
  },
  {
   "cell_type": "code",
   "execution_count": 35,
   "id": "a8eb69fb",
   "metadata": {
    "scrolled": false
   },
   "outputs": [],
   "source": [
    "dog_df['breed'].replace(\"'Pointer (unspecified)', 'Dog (unknown)'\",'Pointer', inplace=True)\n",
    "dog_df['breed'].replace('Terrier - Cairn','Terrier', inplace=True)\n",
    "dog_df['breed'].replace('Terrier (unspecified)', 'Terrier', inplace=True)\n",
    "dog_df['breed'].replace(\"'Terrier (unspecified)', 'Dog (unknown)'\",'Terrier', inplace=True)"
   ]
  },
  {
   "cell_type": "code",
   "execution_count": 36,
   "id": "ddcdafbf",
   "metadata": {},
   "outputs": [],
   "source": [
    "dog_df['breed'].replace(\"'Terrier (unspecified)', 'Dog (other)'\",'Terrier', inplace=True)\n",
    "dog_df['breed'].replace(\"'Retriever - Golden', 'Poodle (unspecified)'\", 'Retriever - Golden', inplace=True)\n",
    "dog_df['breed'].replace(\"'Spitz - German Pomeranian', 'Chihuahua'\", 'Chihuahua', inplace=True)\n",
    "dog_df['breed'].replace(\"'Shepherd Dog - German', 'Crustacea (unknown)'\",'Shepherd Dog - German', inplace=True)"
   ]
  },
  {
   "cell_type": "code",
   "execution_count": 37,
   "id": "95519adf",
   "metadata": {},
   "outputs": [],
   "source": [
    "dog_df['breed'].replace('Terrier - Border', 'Terrier', inplace=True)\n",
    "dog_df['breed'].replace(\"'Maltese', 'Japanese Chin (Spaniel)', 'Papillon - Spaniel - Continental Toy (with erect ears or with dropped ears (Phaléne))', 'Shih Tzu'\",'Maltese', inplace=True)\n",
    "dog_df['breed'].replace(\"'Shepherd Dog - Australian', 'Retriever - Labrador'\",'Retriever - Labrador', inplace=True)\n",
    "dog_df['breed'].replace(\"'Chihuahua', 'Crossbred Canine/dog'\", 'Chihuahua', inplace=True)"
   ]
  },
  {
   "cell_type": "code",
   "execution_count": 38,
   "id": "2c6eebba",
   "metadata": {},
   "outputs": [],
   "source": [
    "dog_df['breed'].replace(\"'Spaniel - Cocker American'\", 'Spaniel - Cocker American', inplace=True)\n",
    "dog_df['breed'].replace(\"'Rottweiler'\", 'Rottweiler',inplace=True)\n",
    "dog_df['breed'].replace(\"'Poodle - Standard'\", 'Poodle - Standard', inplace=True)\n",
    "dog_df['breed'].replace(\"Retriever - Labrador', 'Dog (unknown)\", 'Retriever - Labrador', inplace=True)\n",
    "dog_df['breed'].replace('Dog (unknown', 'Dog', inplace=True)\n",
    "dog_df['breed'].replace('Boxer (German Boxer','German Boxer', inplace=True)\n",
    "dog_df['breed'].replace('Dachshund (unspecified', 'Dachshund', inplace=True)\n",
    "dog_df['breed'].replace(\"Retriever - Labrador', 'Poodle (unspecified)\", 'Retriever - Labrador Poodle', inplace=True)\n",
    "dog_df['breed'].replace('Hound (unspecified)', 'Hound', inplace=True)\n",
    "dog_df['breed'].replace('Hound (unspecified', 'Hound', inplace=True)\n",
    "dog_df['breed'].replace(\"'Retriever - Labrador', 'Dog (unknown)', 'Bulldog - French'\", 'Retriever - Labrador', inplace=True)\n",
    "dog_df['breed'].replace(\"'Maine Coon', 'Ragdoll'\", 'Maine Coon', inplace=True)\n",
    "dog_df['breed'].replace('Dachshund - Standard Wire-haired', 'Dachshund', inplace=True)\n",
    "dog_df['breed'].replace(\"'Retriever - Labrador', 'Shepherd (unspecified)'\", 'Retriever - Labrador',inplace=True)\n",
    "dog_df['breed'].replace('Terrier - Silky', 'Terrier', inplace=True)"
   ]
  },
  {
   "cell_type": "code",
   "execution_count": 39,
   "id": "d04386a5",
   "metadata": {},
   "outputs": [],
   "source": [
    "dog_df['breed'].replace(\"'Terrier - Yorkshire', 'Chihuahua'\", 'Terrier - Yorkshire',inplace=True)\n",
    "dog_df['breed'].replace(\"'Siberian Husky', 'Dog (unknown)'\",'Siberian Husky', inplace=True)\n",
    "dog_df['breed'].replace(\"'Poodle (unspecified)', 'Dog (unknown)'\",'Poodle', inplace=True)\n",
    "dog_df['breed'].replace(\"'Mastiff', 'Dog (unknown)'\",'Mastiff', inplace=True)\n",
    "dog_df['breed'].replace(\"'Shepherd Dog - German', 'Crossbred Canine/dog'\", 'Shepherd Dog - German', inplace=True)\n",
    "dog_df['breed'].replace(\"'Cattle Dog - Australian (blue heeler, red heeler, Queensland cattledog)', 'Collie - Border'\", 'Cattle Dog', inplace=True)\n",
    "dog_df['breed'].replace(\"'Cattle Dog - Australian (blue heeler, red heeler, Queensland cattledog)', 'Dog(unknown)'\", 'Cattle Dog', inplace=True)\n",
    "dog_df['breed'].replace(\"'Cattle Dog - Australian (blue heeler, red heeler, Queensland cattledog)', 'Dog (unknown)'\", 'Cattle Dog', inplace=True)\n",
    "dog_df['breed'].replace(\"'Maltese','Poodle (unspecified)'\",'Maltese',inplace=True)\n",
    "dog_df['breed'].replace(\"'Maltese', 'Poodle (unspecified)'\",'Maltese', inplace=True)\n",
    "dog_df['breed'].replace(\"'Retriever - Labrador', 'Dog (unknown)'\", 'Retriever - Labrador', inplace=True)\n",
    "dog_df['breed'].replace(\"'Retriever - Labrador', 'Dog (unknown)'\", 'Retriever - Labrador', inplace=True)\n",
    "dog_df['breed'].replace('Shepherd (unspecified', 'Shepherd', inplace=True)\n"
   ]
  },
  {
   "cell_type": "code",
   "execution_count": 40,
   "id": "38d23b0c",
   "metadata": {},
   "outputs": [],
   "source": [
    "dog_df['breed'].replace(\"'Pug', 'Chihuahua'\", 'Pug', inplace=True)\n",
    "dog_df['breed'].replace(\"'Spaniel - Cocker American', 'Poodle (unspecified)'\", 'Spaniel - Cocker American', inplace=True)\n",
    "dog_df['breed'].replace(\"'Shepherd Dog - German', 'Dog (unknown)'\", 'Shepherd Dog - German', inplace=True)\n",
    "dog_df['breed'].replace(\"'Shepherd (unspecified)', 'Dog (unknown)'\", 'Shepherd', inplace=True)\n",
    "dog_df['breed'].replace(\"'Alaskan Malamute', 'Retriever - Labrador'\", 'Alaskan Malamute', inplace=True)\n",
    "dog_df['breed'].replace(\"'Bulldog', 'Pit Bull'\", 'Bulldog', inplace=True)\n",
    "dog_df['breed'].replace(\"'Chihuahua', 'Dachshund (unspecified)'\", 'Chihuahua', inplace=True)\n",
    "dog_df['breed'].replace(\"'Chihuahua', 'Greyhound - Italian'\", 'Chihuahua', inplace=True)\n",
    "dog_df['breed'].replace(\"'Chinese Crested Dog (unspecified)', 'Poodle (unspecified)'\", 'Chinese Crested Dog', inplace=True)\n",
    "dog_df['breed'].replace(\"'Collie - Border', 'Dog (unknown)'\", 'Collie - Border', inplace=True)\n",
    "dog_df['breed'].replace(\"'Crossbred Canine/dog', 'Retriever - Labrador'\", 'Retriever - Labrador', inplace=True)\n",
    "dog_df['breed'].replace(\"'Crossbred Canine/dog', 'Shepherd Dog - German'\", 'Shepherd Dog - German', inplace=True)\n",
    "dog_df['breed'].replace(\"'Dachshund (unspecified)', 'Dog (unknown)'\", 'Dachshund', inplace=True)\n",
    "dog_df['breed'].replace(\"'Great Pyrenees', 'Dog (unknown)'\", 'Great Pyrenees', inplace=True)\n",
    "dog_df['breed'].replace(\"'Crossbred Canine/dog', 'Retriever - Labrador'\", 'Retriever - Labrador', inplace=True)\n"
   ]
  },
  {
   "cell_type": "code",
   "execution_count": 41,
   "id": "bca119f9",
   "metadata": {},
   "outputs": [
    {
     "data": {
      "text/plain": [
       "Retriever - Labrador             59\n",
       "Crossbred Canine/dog             33\n",
       "Chihuahua                        21\n",
       "Shepherd Dog - German            21\n",
       "Beagle                           15\n",
       "                                 ..\n",
       "'Rottweiler', 'Dog (unknown)'     1\n",
       "Shar Pei                          1\n",
       "'Pug', 'Shih Tzu'                 1\n",
       "Griffon - Brussels                1\n",
       "Schipperke                        1\n",
       "Name: breed, Length: 125, dtype: int64"
      ]
     },
     "execution_count": 41,
     "metadata": {},
     "output_type": "execute_result"
    }
   ],
   "source": [
    "dog_df['breed'].value_counts()"
   ]
  },
  {
   "cell_type": "code",
   "execution_count": 42,
   "id": "a3f419f8",
   "metadata": {},
   "outputs": [],
   "source": [
    "# Get the count of each value\n",
    "value_counts = dog_df['breed'].value_counts()\n",
    "\n",
    "# Select the values where the count is less than 2\n",
    "to_remove = value_counts[value_counts < 2].index\n",
    "\n",
    "# Keep rows where the breed column is not in to_remove\n",
    "dog_df = dog_df[~dog_df.breed.isin(to_remove)]"
   ]
  },
  {
   "cell_type": "code",
   "execution_count": 43,
   "id": "2e05d05e",
   "metadata": {},
   "outputs": [
    {
     "name": "stdout",
     "output_type": "stream",
     "text": [
      "<class 'pandas.core.frame.DataFrame'>\n",
      "Int64Index: 435 entries, 1 to 749\n",
      "Data columns (total 15 columns):\n",
      " #   Column           Non-Null Count  Dtype  \n",
      "---  ------           --------------  -----  \n",
      " 0   species          435 non-null    object \n",
      " 1   gender           435 non-null    object \n",
      " 2   age              435 non-null    int32  \n",
      " 3   weight           435 non-null    int32  \n",
      " 4   breed            435 non-null    object \n",
      " 5   drug             435 non-null    object \n",
      " 6   outcome          435 non-null    object \n",
      " 7   date_in          435 non-null    int64  \n",
      " 8   react_term_code  435 non-null    int64  \n",
      " 9   react_term_name  435 non-null    object \n",
      " 10  first_exp_da     435 non-null    float64\n",
      " 11  last_exp_da      435 non-null    float64\n",
      " 12  admin_by         435 non-null    object \n",
      " 13  route            435 non-null    object \n",
      " 14  dosage_form      435 non-null    object \n",
      "dtypes: float64(2), int32(2), int64(2), object(9)\n",
      "memory usage: 51.0+ KB\n"
     ]
    }
   ],
   "source": [
    "dog_df.info()"
   ]
  },
  {
   "cell_type": "code",
   "execution_count": 44,
   "id": "d6c0e951",
   "metadata": {},
   "outputs": [
    {
     "data": {
      "text/plain": [
       "334     70\n",
       "335     40\n",
       "305     34\n",
       "1039    28\n",
       "2430    24\n",
       "        ..\n",
       "193      1\n",
       "998      1\n",
       "124      1\n",
       "2071     1\n",
       "837      1\n",
       "Name: react_term_code, Length: 104, dtype: int64"
      ]
     },
     "execution_count": 44,
     "metadata": {},
     "output_type": "execute_result"
    }
   ],
   "source": [
    "dog_df['react_term_code'].value_counts()"
   ]
  },
  {
   "cell_type": "code",
   "execution_count": 45,
   "id": "5e61d3c3",
   "metadata": {},
   "outputs": [
    {
     "data": {
      "text/plain": [
       "Vomiting                                       70\n",
       "Emesis                                         40\n",
       "Digestive tract disorder NOS                   34\n",
       "Lack of efficacy - NOS                         28\n",
       "Lack of efficacy (endoparasite) - heartworm    23\n",
       "                                               ..\n",
       "Inappropriate urination                         1\n",
       "General illness                                 1\n",
       "Skin irritation                                 1\n",
       "INEFFECTIVE, ANTIBIOTIC                         1\n",
       "Abnormal breathing                              1\n",
       "Name: react_term_name, Length: 107, dtype: int64"
      ]
     },
     "execution_count": 45,
     "metadata": {},
     "output_type": "execute_result"
    }
   ],
   "source": [
    "dog_df['react_term_name'].value_counts()"
   ]
  },
  {
   "cell_type": "code",
   "execution_count": 46,
   "id": "3c52c3f5",
   "metadata": {},
   "outputs": [],
   "source": [
    "dog_df['react_term_name'].replace('Emesis (multiple)', 'Emesis', inplace=True)"
   ]
  },
  {
   "cell_type": "code",
   "execution_count": 47,
   "id": "bd2a0f75",
   "metadata": {},
   "outputs": [
    {
     "data": {
      "text/plain": [
       "Spinosad                                                         151\n",
       "Ivermectin                                                        72\n",
       "Milbemycin Oxime                                                  38\n",
       "Afoxolaner                                                        22\n",
       "Moxidectin                                                        13\n",
       "Nitenpyram                                                         9\n",
       "Imidacloprid                                                       8\n",
       "Melarsomine Dihydrochloride Injection                              8\n",
       "Milbemycin Oxime, Lufenuron                                        7\n",
       "Sarolaner                                                          7\n",
       "Oclacitinib Maleate                                                6\n",
       "Ivermectin 272Mcg, Pyrantel Pamoate 228Mg, Praziquantel 228Mg      6\n",
       "Fluralaner Chew Tablets                                            6\n",
       "Ivermectin/Pyrantel Pamoate Chewable 136Mcg/326Mg                  5\n",
       "Ivermectin/Pyrantel Pamoate Chewable 272Mcg/652Mg                  5\n",
       "Pyrantel Pamoate;Sarolaner                                         5\n",
       "Milbemcyin Oxime, Lufenuron, Praziquantel                          5\n",
       "Melarsomine Dihydrochloride                                        4\n",
       "Ivermectin/Pyrantel Pamoate Chewable 68Mcg/163Mg                   4\n",
       "Cyclosporine A                                                     4\n",
       "Selamectin                                                         4\n",
       "Florfenicol                                                        3\n",
       "Pyrantel Pamoate/Praziquantel                                      3\n",
       "Carprofen                                                          3\n",
       "Trilostane                                                         3\n",
       "Pyrantel Pamoate                                                   3\n",
       "Polysulfated Glycosaminoglycan                                     2\n",
       "Afoxolaner 136 Mg Chewable Tablets                                 2\n",
       "Afoxolaner 68 Mg Chewable Tablets                                  2\n",
       "Maropitant Citrate                                                 2\n",
       "Grapiprant                                                         2\n",
       "Lotilaner                                                          2\n",
       "Dexmedetomidine                                                    1\n",
       "Firocoxib                                                          1\n",
       "Fluralaner 13.64% Chew Tablets                                     1\n",
       "Meloxicam                                                          1\n",
       "Desoxycorticosterone Pivalate                                      1\n",
       "Estriol Tablets                                                    1\n",
       "Lufenuron                                                          1\n",
       "Phytovet Ear Cleansing Solution                                    1\n",
       "Enrofloxacin                                                       1\n",
       "Praziquantel                                                       1\n",
       "Cefovecin                                                          1\n",
       "Fluoxetine Hydrochloride                                           1\n",
       "Ivermectin 68Mcg Pyrantel 57Mg                                     1\n",
       "Phenylpropanolamine Hcl                                            1\n",
       "Pyrantel                                                           1\n",
       "Phenylpropanolamine                                                1\n",
       "Florfenicol/Terbinafine Hydrochloride/Mometasone Furoate           1\n",
       "Ivermectin/Pyrantel Chew. Dog 272Mcg/227Mg                         1\n",
       "Acepromazine Maleate                                               1\n",
       "Name: drug, dtype: int64"
      ]
     },
     "execution_count": 47,
     "metadata": {},
     "output_type": "execute_result"
    }
   ],
   "source": [
    "dog_df['drug'].value_counts()"
   ]
  },
  {
   "cell_type": "markdown",
   "id": "bc399576",
   "metadata": {},
   "source": [
    "Finally, we look at the \"Gender\" category:"
   ]
  },
  {
   "cell_type": "code",
   "execution_count": 48,
   "id": "52b39994",
   "metadata": {
    "scrolled": true
   },
   "outputs": [
    {
     "data": {
      "text/plain": [
       "Female     246\n",
       "Male       183\n",
       "Unknown      4\n",
       "Mixed        2\n",
       "Name: gender, dtype: int64"
      ]
     },
     "execution_count": 48,
     "metadata": {},
     "output_type": "execute_result"
    }
   ],
   "source": [
    "dog_df['gender'].value_counts()"
   ]
  },
  {
   "cell_type": "markdown",
   "id": "91f2955f",
   "metadata": {},
   "source": [
    "There are four categories, but we didn't drop \"Unknown\" and \"Mixed\" from the set. \"Unknown\" comes from lack of information, and \"Mixed\" may or may not be a hermaphrodite. "
   ]
  },
  {
   "cell_type": "markdown",
   "id": "722d42af",
   "metadata": {},
   "source": [
    "Now, we can run the summary statistics on the numerical values:"
   ]
  },
  {
   "cell_type": "code",
   "execution_count": 49,
   "id": "1f0332aa",
   "metadata": {},
   "outputs": [
    {
     "data": {
      "text/plain": [
       "count    435.000000\n",
       "mean       6.965517\n",
       "std        4.564056\n",
       "min        1.000000\n",
       "25%        3.000000\n",
       "50%        6.000000\n",
       "75%       10.000000\n",
       "max       23.000000\n",
       "Name: age, dtype: float64"
      ]
     },
     "execution_count": 49,
     "metadata": {},
     "output_type": "execute_result"
    }
   ],
   "source": [
    "dog_df['age'].describe()"
   ]
  },
  {
   "cell_type": "markdown",
   "id": "9edd478d",
   "metadata": {},
   "source": [
    "And summary proportions of nominal categorical variables:"
   ]
  },
  {
   "cell_type": "code",
   "execution_count": 50,
   "id": "4fbc8b7f",
   "metadata": {},
   "outputs": [
    {
     "data": {
      "text/plain": [
       "Retriever - Labrador     0.135632\n",
       "Crossbred Canine/dog     0.075862\n",
       "Chihuahua                0.048276\n",
       "Shepherd Dog - German    0.048276\n",
       "Beagle                   0.034483\n",
       "                           ...   \n",
       "Weimaraner               0.004598\n",
       "Mountain Cur             0.004598\n",
       "Dachshund - Miniature    0.004598\n",
       "Dalmatian                0.004598\n",
       "Dog (other               0.004598\n",
       "Name: breed, Length: 66, dtype: float64"
      ]
     },
     "execution_count": 50,
     "metadata": {},
     "output_type": "execute_result"
    }
   ],
   "source": [
    "dog_df['breed'].value_counts()/dog_df['breed'].value_counts().sum()"
   ]
  },
  {
   "cell_type": "code",
   "execution_count": 51,
   "id": "d3988f45",
   "metadata": {},
   "outputs": [
    {
     "data": {
      "text/plain": [
       "Female     0.565517\n",
       "Male       0.420690\n",
       "Unknown    0.009195\n",
       "Mixed      0.004598\n",
       "Name: gender, dtype: float64"
      ]
     },
     "execution_count": 51,
     "metadata": {},
     "output_type": "execute_result"
    }
   ],
   "source": [
    "dog_df['gender'].value_counts()/dog_df['gender'].value_counts().sum()"
   ]
  },
  {
   "cell_type": "code",
   "execution_count": 52,
   "id": "cbd684ff",
   "metadata": {},
   "outputs": [
    {
     "data": {
      "text/plain": [
       "Outcome Unknown           0.563218\n",
       "Recovered/Normal          0.262069\n",
       "Ongoing                   0.108046\n",
       "Recovered with Sequela    0.050575\n",
       "Died                      0.009195\n",
       "Euthanized                0.006897\n",
       "Name: outcome, dtype: float64"
      ]
     },
     "execution_count": 52,
     "metadata": {},
     "output_type": "execute_result"
    }
   ],
   "source": [
    "dog_df['outcome'].value_counts()/dog_df['outcome'].value_counts().sum()"
   ]
  },
  {
   "cell_type": "code",
   "execution_count": 53,
   "id": "a644c247",
   "metadata": {},
   "outputs": [
    {
     "data": {
      "text/plain": [
       "Spinosad                                                         0.347126\n",
       "Ivermectin                                                       0.165517\n",
       "Milbemycin Oxime                                                 0.087356\n",
       "Afoxolaner                                                       0.050575\n",
       "Moxidectin                                                       0.029885\n",
       "Nitenpyram                                                       0.020690\n",
       "Imidacloprid                                                     0.018391\n",
       "Melarsomine Dihydrochloride Injection                            0.018391\n",
       "Milbemycin Oxime, Lufenuron                                      0.016092\n",
       "Sarolaner                                                        0.016092\n",
       "Oclacitinib Maleate                                              0.013793\n",
       "Ivermectin 272Mcg, Pyrantel Pamoate 228Mg, Praziquantel 228Mg    0.013793\n",
       "Fluralaner Chew Tablets                                          0.013793\n",
       "Ivermectin/Pyrantel Pamoate Chewable 136Mcg/326Mg                0.011494\n",
       "Ivermectin/Pyrantel Pamoate Chewable 272Mcg/652Mg                0.011494\n",
       "Pyrantel Pamoate;Sarolaner                                       0.011494\n",
       "Milbemcyin Oxime, Lufenuron, Praziquantel                        0.011494\n",
       "Melarsomine Dihydrochloride                                      0.009195\n",
       "Ivermectin/Pyrantel Pamoate Chewable 68Mcg/163Mg                 0.009195\n",
       "Cyclosporine A                                                   0.009195\n",
       "Selamectin                                                       0.009195\n",
       "Florfenicol                                                      0.006897\n",
       "Pyrantel Pamoate/Praziquantel                                    0.006897\n",
       "Carprofen                                                        0.006897\n",
       "Trilostane                                                       0.006897\n",
       "Pyrantel Pamoate                                                 0.006897\n",
       "Polysulfated Glycosaminoglycan                                   0.004598\n",
       "Afoxolaner 136 Mg Chewable Tablets                               0.004598\n",
       "Afoxolaner 68 Mg Chewable Tablets                                0.004598\n",
       "Maropitant Citrate                                               0.004598\n",
       "Grapiprant                                                       0.004598\n",
       "Lotilaner                                                        0.004598\n",
       "Dexmedetomidine                                                  0.002299\n",
       "Firocoxib                                                        0.002299\n",
       "Fluralaner 13.64% Chew Tablets                                   0.002299\n",
       "Meloxicam                                                        0.002299\n",
       "Desoxycorticosterone Pivalate                                    0.002299\n",
       "Estriol Tablets                                                  0.002299\n",
       "Lufenuron                                                        0.002299\n",
       "Phytovet Ear Cleansing Solution                                  0.002299\n",
       "Enrofloxacin                                                     0.002299\n",
       "Praziquantel                                                     0.002299\n",
       "Cefovecin                                                        0.002299\n",
       "Fluoxetine Hydrochloride                                         0.002299\n",
       "Ivermectin 68Mcg Pyrantel 57Mg                                   0.002299\n",
       "Phenylpropanolamine Hcl                                          0.002299\n",
       "Pyrantel                                                         0.002299\n",
       "Phenylpropanolamine                                              0.002299\n",
       "Florfenicol/Terbinafine Hydrochloride/Mometasone Furoate         0.002299\n",
       "Ivermectin/Pyrantel Chew. Dog 272Mcg/227Mg                       0.002299\n",
       "Acepromazine Maleate                                             0.002299\n",
       "Name: drug, dtype: float64"
      ]
     },
     "execution_count": 53,
     "metadata": {},
     "output_type": "execute_result"
    }
   ],
   "source": [
    "dog_df['drug'].value_counts()/dog_df['drug'].value_counts().sum()"
   ]
  },
  {
   "cell_type": "markdown",
   "id": "ef9ee1b0",
   "metadata": {},
   "source": [
    "Last step prior to updating the database is to write the csv file out"
   ]
  },
  {
   "cell_type": "code",
   "execution_count": 54,
   "id": "2dcdf9c1",
   "metadata": {},
   "outputs": [],
   "source": [
    "dog_df.to_csv(\"dog_data.csv\",index=False)"
   ]
  },
  {
   "cell_type": "code",
   "execution_count": null,
   "id": "e55991be",
   "metadata": {},
   "outputs": [],
   "source": []
  }
 ],
 "metadata": {
  "kernelspec": {
   "display_name": "Python 3 (ipykernel)",
   "language": "python",
   "name": "python3"
  },
  "language_info": {
   "codemirror_mode": {
    "name": "ipython",
    "version": 3
   },
   "file_extension": ".py",
   "mimetype": "text/x-python",
   "name": "python",
   "nbconvert_exporter": "python",
   "pygments_lexer": "ipython3",
   "version": "3.9.7"
  }
 },
 "nbformat": 4,
 "nbformat_minor": 5
}
