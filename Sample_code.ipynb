{
 "cells": [
  {
   "cell_type": "code",
   "execution_count": null,
   "id": "a4349965",
   "metadata": {},
   "outputs": [],
   "source": [
    "#Import the python driver for PostgreSQL\n",
    "import psycopg2\n",
    "\n",
    "#Create a connection credentials to the PostgreSQL database\n",
    "try:\n",
    "    connection = psycopg2.connect(\n",
    "        user = \"postgres\",\n",
    "        password = \"1234\",\n",
    "        host = \"localhost\",\n",
    "        port = \"5432\",\n",
    "        database = \"demo\"\n",
    "    )\n",
    "\n",
    "    #Create a cursor connection object to a PostgreSQL instance and print the connection properties.\n",
    "    cursor = connection.cursor()\n",
    "    print(connection.get_dsn_parameters(),\"\\n\")\n",
    "\n",
    "    #Display the PostgreSQL version installed\n",
    "    cursor.execute(\"SELECT version();\")\n",
    "    record = cursor.fetchone()\n",
    "    print(\"You are connected into the - \" record,\"\\n\")\n",
    "\n",
    "\n",
    "    #Get the column name of a table inside the database and put some values\n",
    "    pg_insert = \"\"\" INSERT INTO book (id, author, isbn, title, date_published)\n",
    "                VALUES (%s,%s,%s,%s,%s)\"\"\"\n",
    "\n",
    "    inserted_values = (1, 'Layla Nowiztki', '789-1-46-268414-1', 'How to become a professional programmer', 'January 25 2011')\n",
    "\n",
    "    #Execute the pg_insert SQL string\n",
    "    cursor.execute(pg_insert, inserted_values)\n",
    "\n",
    "    #Commit transaction and prints the result successfully\n",
    "    connection.commit()\n",
    "    count = cursor.rowcount\n",
    "    print (count, \"Successfully inserted\")\n",
    "\n",
    "\n",
    "#Handle the error throws by the command that is useful when using python while working with PostgreSQL\n",
    "except(Exception, psycopg2.Error) as error:\n",
    "    print(\"Error connecting to PostgreSQL database\", error)\n",
    "    connection = None\n",
    "\n",
    "#Close the database connection\n",
    "finally:\n",
    "    if(connection != None):\n",
    "        cursor.close()\n",
    "        connection.close()\n",
    "        print(\"PostgreSQL connection is now closed\")"
   ]
  }
 ],
 "metadata": {
  "kernelspec": {
   "display_name": "Python 3 (ipykernel)",
   "language": "python",
   "name": "python3"
  },
  "language_info": {
   "codemirror_mode": {
    "name": "ipython",
    "version": 3
   },
   "file_extension": ".py",
   "mimetype": "text/x-python",
   "name": "python",
   "nbconvert_exporter": "python",
   "pygments_lexer": "ipython3",
   "version": "3.9.7"
  }
 },
 "nbformat": 4,
 "nbformat_minor": 5
}
