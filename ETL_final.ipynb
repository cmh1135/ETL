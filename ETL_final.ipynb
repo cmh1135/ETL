{
 "cells": [
  {
   "cell_type": "markdown",
   "id": "b7de48d0",
   "metadata": {},
   "source": [
    "## Extract, Transform, Load (ETL) Project\n"
   ]
  },
  {
   "cell_type": "markdown",
   "id": "0a84a5c1",
   "metadata": {},
   "source": [
    "Data was sourced from openFDA - the US Food and Drug Administration (USFDA) API. We selected animal and veterinary API endpoints. The available API was the Adverse Event Report. During our EDA project, we selected data on a small set of attributes of cats, recorded from 1987-2021. However, the same code no longer would run so we switched to selecting data on dogs. \n",
    "\n",
    "We obtained an API key, defined a base url, an made API calls. The output was converted to json format. The key was not used for most of the data retrieval. Data extraction was facilitated by a loop.  The original 750 records were stored in a dataframe and also saved as a .csv file.\n",
    "\n",
    "Our dataframe comprises reports of incidents where drug exposure resulted in adverse reactions in dogs. After inspecting the variables, we trimmed the dataframe to a set of 415 records. "
   ]
  },
  {
   "cell_type": "markdown",
   "id": "18433b89",
   "metadata": {},
   "source": [
    "### Retrieving data and creating dataframe"
   ]
  },
  {
   "cell_type": "code",
   "execution_count": 1,
   "id": "092c3521",
   "metadata": {},
   "outputs": [],
   "source": [
    "#Setting dependencies\n",
    "\n",
    "import numpy as np\n",
    "import pandas as pd\n",
    "\n",
    "import json\n",
    "import requests\n",
    "import time\n",
    "\n",
    "import matplotlib.pyplot as plt\n",
    "from pandas.plotting import table\n",
    "from pprint import pprint\n",
    "import seaborn as sns\n",
    "\n",
    "# Import API key\n",
    "\n",
    "from api_keys import api_key"
   ]
  },
  {
   "cell_type": "code",
   "execution_count": 3,
   "id": "5c6c3e94",
   "metadata": {},
   "outputs": [],
   "source": [
    "# This url returns only the first match, so we used a loop to skip entries and pick up another one.otherwise the \n",
    "# same one is returned every time.\n",
    "# Returning 750 results runs for a bit of time but will provide us with more data to look at/scrub\n",
    "#creating empty dictionary to store extracted data\n",
    "\n",
    "cats_data = {'species':[],\n",
    "                'gender':[],\n",
    "                'age':[],\n",
    "                'weight':[],\n",
    "                'breed':[],\n",
    "                'drug':[],\n",
    "                'outcome':[],\n",
    "                'date_in':[],\n",
    "                'react_term_code':[],\n",
    "                'react_term_name':[],\n",
    "                'first_exp_da':[],\n",
    "                'last_exp_da':[],\n",
    "                'admin_by':[],\n",
    "                'route':[],\n",
    "                'dosage_form':[]}\n",
    "#base_url = \"https://api.fda.gov/animalandveterinary/event.json?search=animal.species=Cat'\"\n",
    "base_url = \"https://api.fda.gov/animalandveterinary/event.json?search=animal.breed.breed_component<>'Unknown'\"\n",
    "# NB: It turns out that the API key was unnecessary - the + api_key part of the call was not copied, and the call was successful. These data were extracted without using the key.\n",
    "\n",
    "counter = 1\n",
    "for i in range(750):\n",
    "    req = requests.get(base_url)\n",
    "    data = req.json()\n",
    "\n",
    "    # validate the data, if age and weight don't exist, replace with 0. If date fields don't exist, replace with nan.\n",
    "    # For all other fields that don't exist, replace with 'Unknown'. \n",
    "    try:\n",
    "        cats_data['age'].append(data['results'][0]['animal']['age']['min'])\n",
    "    except:\n",
    "        cats_data['age'].append('0')\n",
    "    \n",
    "    try:\n",
    "        cats_data['weight'].append(data['results'][0]['animal']['weight']['min'])\n",
    "    except:\n",
    "        cats_data['weight'].append('0')\n",
    "\n",
    "    try:\n",
    "        cats_data['outcome'].append(data['results'][0]['outcome'][0]['medical_status'])\n",
    "    except:\n",
    "        cats_data['outcome'].append('Unknown')\n",
    "    \n",
    "    try:\n",
    "        cats_data['date_in'].append(data['results'][0]['original_receive_date'])\n",
    "    except:\n",
    "        cats_data['date_in'].append(np.nan)\n",
    "\n",
    "    try:\n",
    "        cats_data['species'].append(data['results'][0]['animal']['species'])\n",
    "    except:\n",
    "        cats_data['species'].append('Unknown')\n",
    "        \n",
    "    try:\n",
    "        cats_data['gender'].append(data['results'][0]['animal']['gender'])\n",
    "    except:\n",
    "        cats_data['gender'].append('Unknown')\n",
    "    \n",
    "    try:\n",
    "        cats_data['breed'].append(data['results'][0]['animal']['breed']['breed_component'])\n",
    "    except:\n",
    "        cats_data['breed'].append('Unknown')\n",
    "    \n",
    "    try:\n",
    "        cats_data['drug'].append(data['results'][0]['drug'][0]['active_ingredients'][0]['name'])\n",
    "    except:\n",
    "        cats_data['drug'].append('Unknown')\n",
    "        \n",
    "    try:    \n",
    "        cats_data['react_term_code'].append(data['results'][0]['reaction'][0]['veddra_term_code'])\n",
    "    except:\n",
    "        cats_data['react_term_code'].append('Unknown')\n",
    "    \n",
    "    try:\n",
    "        cats_data['react_term_name'].append(data['results'][0]['reaction'][0]['veddra_term_name'])\n",
    "    except:\n",
    "        cats_data['react_term_name'].append('Unknown')\n",
    "    \n",
    "    try:\n",
    "        cats_data['first_exp_da'].append(data['results'][0]['drug'][0]['first_exposure_date'])\n",
    "    except:\n",
    "        cats_data['first_exp_da'].append(np.nan)\n",
    "        \n",
    "    try: \n",
    "        cats_data['last_exp_da'].append(data['results'][0]['drug'][0]['last_exposure_date'])\n",
    "    except:\n",
    "        cats_data['last_exp_da'].append(np.nan)\n",
    "        \n",
    "    try:\n",
    "        cats_data['admin_by'].append(data['results'][0]['drug'][0]['administered_by'])\n",
    "    except:\n",
    "        cats_data['admin_by'].append('Unknown')\n",
    "        \n",
    "    try:\n",
    "        cats_data['route'].append(data['results'][0]['drug'][0]['route'])\n",
    "    except:\n",
    "        cats_data['route'].append('Unknown')\n",
    "        \n",
    "    try:\n",
    "        cats_data['dosage_form'].append(data['results'][0]['drug'][0]['dosage_form'])\n",
    "    except:\n",
    "        cats_data['dosage_form'].append('Unknown')\n",
    "        \n",
    "    counter +=1\n",
    "    #counter is converted to a string and used as a skip value for gathering random records\n",
    "    str_count = str(counter)\n",
    "    #base_url = \"https://api.fda.gov/animalandveterinary/event.json?search=animal.species=Cat+(animal.breed.breed_component='Domestic Shorthair'+OR+animal.breed.breed_component='Domestic Longhair')&skip=\" + str_count\n",
    "    #base_url = \"https://api.fda.gov/animalandveterinary/event.json?search=animal.species=Cat'&skip=\" + str_count\n",
    "    base_url = \"https://api.fda.gov/animalandveterinary/event.json?search=animal.breed.breed_component<>'Unknown'&skip=\" + str_count"
   ]
  },
  {
   "cell_type": "code",
   "execution_count": 5,
   "id": "133d59ac",
   "metadata": {},
   "outputs": [
    {
     "name": "stdout",
     "output_type": "stream",
     "text": [
      "<class 'pandas.core.frame.DataFrame'>\n",
      "RangeIndex: 750 entries, 0 to 749\n",
      "Data columns (total 15 columns):\n",
      " #   Column           Non-Null Count  Dtype \n",
      "---  ------           --------------  ----- \n",
      " 0   species          750 non-null    object\n",
      " 1   gender           750 non-null    object\n",
      " 2   age              750 non-null    object\n",
      " 3   weight           750 non-null    object\n",
      " 4   breed            750 non-null    object\n",
      " 5   drug             750 non-null    object\n",
      " 6   outcome          750 non-null    object\n",
      " 7   date_in          750 non-null    object\n",
      " 8   react_term_code  750 non-null    object\n",
      " 9   react_term_name  750 non-null    object\n",
      " 10  first_exp_da     687 non-null    object\n",
      " 11  last_exp_da      655 non-null    object\n",
      " 12  admin_by         750 non-null    object\n",
      " 13  route            750 non-null    object\n",
      " 14  dosage_form      750 non-null    object\n",
      "dtypes: object(15)\n",
      "memory usage: 88.0+ KB\n"
     ]
    }
   ],
   "source": [
    "# converting the raw data in the cats dictionary to a dataframe and writing it out to a csv file - mainly because it takes\n",
    "# a while to run so if the dataframe gets messed up, it can be read from the file instead of running the api again\n",
    "\n",
    "cat_df = pd.DataFrame.from_dict(cats_data)\n",
    "cat_df.to_csv(\"cat_data.csv\",index=False)\n",
    "\n",
    "#print the info of the dataframe\n",
    "\n",
    "cat_df.info()"
   ]
  },
  {
   "cell_type": "code",
   "execution_count": 2,
   "id": "46f9be16",
   "metadata": {},
   "outputs": [],
   "source": [
    "# read the csv file in \n",
    "# changing to just use dogs soon so naming the dataframe appropriately\n",
    "dog_df = pd.read_csv('cat_data.csv')"
   ]
  },
  {
   "cell_type": "markdown",
   "id": "109af44b",
   "metadata": {},
   "source": [
    "#### Begin data analysis and pre-processing"
   ]
  },
  {
   "cell_type": "markdown",
   "id": "c31f1381",
   "metadata": {},
   "source": [
    "We are just going with dogs this time around so dropping the remaining species."
   ]
  },
  {
   "cell_type": "code",
   "execution_count": 3,
   "id": "c7fc307c",
   "metadata": {},
   "outputs": [
    {
     "name": "stdout",
     "output_type": "stream",
     "text": [
      "<class 'pandas.core.frame.DataFrame'>\n",
      "RangeIndex: 750 entries, 0 to 749\n",
      "Data columns (total 15 columns):\n",
      " #   Column           Non-Null Count  Dtype  \n",
      "---  ------           --------------  -----  \n",
      " 0   species          750 non-null    object \n",
      " 1   gender           750 non-null    object \n",
      " 2   age              750 non-null    float64\n",
      " 3   weight           750 non-null    float64\n",
      " 4   breed            750 non-null    object \n",
      " 5   drug             750 non-null    object \n",
      " 6   outcome          750 non-null    object \n",
      " 7   date_in          750 non-null    int64  \n",
      " 8   react_term_code  750 non-null    int64  \n",
      " 9   react_term_name  750 non-null    object \n",
      " 10  first_exp_da     687 non-null    float64\n",
      " 11  last_exp_da      655 non-null    float64\n",
      " 12  admin_by         750 non-null    object \n",
      " 13  route            750 non-null    object \n",
      " 14  dosage_form      750 non-null    object \n",
      "dtypes: float64(4), int64(2), object(9)\n",
      "memory usage: 88.0+ KB\n"
     ]
    }
   ],
   "source": [
    "dog_df.info()"
   ]
  },
  {
   "cell_type": "code",
   "execution_count": 4,
   "id": "9407851a",
   "metadata": {},
   "outputs": [
    {
     "data": {
      "text/plain": [
       "Dog    629\n",
       "Name: species, dtype: int64"
      ]
     },
     "execution_count": 4,
     "metadata": {},
     "output_type": "execute_result"
    }
   ],
   "source": [
    "dog_df.drop(dog_df.index[dog_df['species'] != 'Dog'], inplace = True)\n",
    "\n",
    "dog_df['species'].value_counts()"
   ]
  },
  {
   "cell_type": "code",
   "execution_count": 5,
   "id": "67f98fc6",
   "metadata": {},
   "outputs": [
    {
     "data": {
      "text/html": [
       "<div>\n",
       "<style scoped>\n",
       "    .dataframe tbody tr th:only-of-type {\n",
       "        vertical-align: middle;\n",
       "    }\n",
       "\n",
       "    .dataframe tbody tr th {\n",
       "        vertical-align: top;\n",
       "    }\n",
       "\n",
       "    .dataframe thead th {\n",
       "        text-align: right;\n",
       "    }\n",
       "</style>\n",
       "<table border=\"1\" class=\"dataframe\">\n",
       "  <thead>\n",
       "    <tr style=\"text-align: right;\">\n",
       "      <th></th>\n",
       "      <th>species</th>\n",
       "      <th>gender</th>\n",
       "      <th>age</th>\n",
       "      <th>weight</th>\n",
       "      <th>breed</th>\n",
       "      <th>drug</th>\n",
       "      <th>outcome</th>\n",
       "      <th>date_in</th>\n",
       "      <th>react_term_code</th>\n",
       "      <th>react_term_name</th>\n",
       "      <th>first_exp_da</th>\n",
       "      <th>last_exp_da</th>\n",
       "      <th>admin_by</th>\n",
       "      <th>route</th>\n",
       "      <th>dosage_form</th>\n",
       "    </tr>\n",
       "  </thead>\n",
       "  <tbody>\n",
       "    <tr>\n",
       "      <th>0</th>\n",
       "      <td>Dog</td>\n",
       "      <td>Female</td>\n",
       "      <td>10.0</td>\n",
       "      <td>5.900</td>\n",
       "      <td>Poodle (unspecified)</td>\n",
       "      <td>Spinosad</td>\n",
       "      <td>Recovered/Normal</td>\n",
       "      <td>20120627</td>\n",
       "      <td>334</td>\n",
       "      <td>Vomiting</td>\n",
       "      <td>20120601.0</td>\n",
       "      <td>20120702.0</td>\n",
       "      <td>Animal Owner</td>\n",
       "      <td>Oral</td>\n",
       "      <td>Tablet, chewable</td>\n",
       "    </tr>\n",
       "    <tr>\n",
       "      <th>1</th>\n",
       "      <td>Dog</td>\n",
       "      <td>Female</td>\n",
       "      <td>7.0</td>\n",
       "      <td>5.900</td>\n",
       "      <td>Terrier - West Highland White</td>\n",
       "      <td>Spinosad</td>\n",
       "      <td>Recovered/Normal</td>\n",
       "      <td>20120627</td>\n",
       "      <td>335</td>\n",
       "      <td>Emesis</td>\n",
       "      <td>20120327.0</td>\n",
       "      <td>20120627.0</td>\n",
       "      <td>Animal Owner</td>\n",
       "      <td>Oral</td>\n",
       "      <td>Tablet, chewable</td>\n",
       "    </tr>\n",
       "    <tr>\n",
       "      <th>2</th>\n",
       "      <td>Dog</td>\n",
       "      <td>Female</td>\n",
       "      <td>14.0</td>\n",
       "      <td>7.620</td>\n",
       "      <td>Schnauzer (unspecified)</td>\n",
       "      <td>Spinosad</td>\n",
       "      <td>Recovered/Normal</td>\n",
       "      <td>20110928</td>\n",
       "      <td>335</td>\n",
       "      <td>Emesis</td>\n",
       "      <td>20110923.0</td>\n",
       "      <td>20110923.0</td>\n",
       "      <td>Animal Owner</td>\n",
       "      <td>Oral</td>\n",
       "      <td>Tablet, chewable</td>\n",
       "    </tr>\n",
       "    <tr>\n",
       "      <th>3</th>\n",
       "      <td>Dog</td>\n",
       "      <td>Female</td>\n",
       "      <td>0.0</td>\n",
       "      <td>32.660</td>\n",
       "      <td>['Retriever (unspecified)', 'Dog (other)']</td>\n",
       "      <td>Spinosad</td>\n",
       "      <td>Outcome Unknown</td>\n",
       "      <td>20120601</td>\n",
       "      <td>121</td>\n",
       "      <td>Agitation</td>\n",
       "      <td>20120301.0</td>\n",
       "      <td>20120501.0</td>\n",
       "      <td>Animal Owner</td>\n",
       "      <td>Oral</td>\n",
       "      <td>Tablet, chewable</td>\n",
       "    </tr>\n",
       "    <tr>\n",
       "      <th>6</th>\n",
       "      <td>Dog</td>\n",
       "      <td>Male</td>\n",
       "      <td>14.0</td>\n",
       "      <td>36.287</td>\n",
       "      <td>Doberman Pinscher</td>\n",
       "      <td>Ivermectin</td>\n",
       "      <td>Outcome Unknown</td>\n",
       "      <td>20150203</td>\n",
       "      <td>305</td>\n",
       "      <td>Digestive tract disorder NOS</td>\n",
       "      <td>20150201.0</td>\n",
       "      <td>20150201.0</td>\n",
       "      <td>Animal Owner</td>\n",
       "      <td>Oral</td>\n",
       "      <td>Tablet, chewable</td>\n",
       "    </tr>\n",
       "    <tr>\n",
       "      <th>7</th>\n",
       "      <td>Dog</td>\n",
       "      <td>Unknown</td>\n",
       "      <td>0.0</td>\n",
       "      <td>0.000</td>\n",
       "      <td>Dog (unknown)</td>\n",
       "      <td>Spinosad</td>\n",
       "      <td>Unknown</td>\n",
       "      <td>20110303</td>\n",
       "      <td>2649</td>\n",
       "      <td>Lack of efficacy (ectoparasite) - flea</td>\n",
       "      <td>NaN</td>\n",
       "      <td>NaN</td>\n",
       "      <td>Unknown</td>\n",
       "      <td>Oral</td>\n",
       "      <td>Tablet, chewable</td>\n",
       "    </tr>\n",
       "    <tr>\n",
       "      <th>8</th>\n",
       "      <td>Dog</td>\n",
       "      <td>Female</td>\n",
       "      <td>5.0</td>\n",
       "      <td>39.460</td>\n",
       "      <td>Boxer (German Boxer)</td>\n",
       "      <td>Imidacloprid</td>\n",
       "      <td>Outcome Unknown</td>\n",
       "      <td>20160420</td>\n",
       "      <td>2082</td>\n",
       "      <td>Emesis (multiple)</td>\n",
       "      <td>20160420.0</td>\n",
       "      <td>20160420.0</td>\n",
       "      <td>Other</td>\n",
       "      <td>Other</td>\n",
       "      <td>Solution</td>\n",
       "    </tr>\n",
       "    <tr>\n",
       "      <th>9</th>\n",
       "      <td>Dog</td>\n",
       "      <td>Male</td>\n",
       "      <td>10.0</td>\n",
       "      <td>15.000</td>\n",
       "      <td>Crossbred Canine/dog</td>\n",
       "      <td>Recombinant Human Insulin</td>\n",
       "      <td>Outcome Unknown</td>\n",
       "      <td>20160630</td>\n",
       "      <td>119</td>\n",
       "      <td>Restlessness</td>\n",
       "      <td>20150425.0</td>\n",
       "      <td>NaN</td>\n",
       "      <td>Animal Owner</td>\n",
       "      <td>Subcutaneous</td>\n",
       "      <td>Suspension</td>\n",
       "    </tr>\n",
       "    <tr>\n",
       "      <th>11</th>\n",
       "      <td>Dog</td>\n",
       "      <td>Male</td>\n",
       "      <td>9.8</td>\n",
       "      <td>5.534</td>\n",
       "      <td>Poodle - Miniature</td>\n",
       "      <td>Ivermectin</td>\n",
       "      <td>Outcome Unknown</td>\n",
       "      <td>20150319</td>\n",
       "      <td>305</td>\n",
       "      <td>Digestive tract disorder NOS</td>\n",
       "      <td>20141201.0</td>\n",
       "      <td>20150301.0</td>\n",
       "      <td>Animal Owner</td>\n",
       "      <td>Oral</td>\n",
       "      <td>Tablet, chewable</td>\n",
       "    </tr>\n",
       "    <tr>\n",
       "      <th>12</th>\n",
       "      <td>Dog</td>\n",
       "      <td>Male</td>\n",
       "      <td>10.0</td>\n",
       "      <td>33.570</td>\n",
       "      <td>Retriever - Golden</td>\n",
       "      <td>Moxidectin</td>\n",
       "      <td>Outcome Unknown</td>\n",
       "      <td>20150612</td>\n",
       "      <td>130</td>\n",
       "      <td>Crying</td>\n",
       "      <td>20150611.0</td>\n",
       "      <td>20150611.0</td>\n",
       "      <td>Veterinarian</td>\n",
       "      <td>Subcutaneous</td>\n",
       "      <td>Suspension</td>\n",
       "    </tr>\n",
       "  </tbody>\n",
       "</table>\n",
       "</div>"
      ],
      "text/plain": [
       "   species   gender   age  weight                                       breed  \\\n",
       "0      Dog   Female  10.0   5.900                        Poodle (unspecified)   \n",
       "1      Dog   Female   7.0   5.900               Terrier - West Highland White   \n",
       "2      Dog   Female  14.0   7.620                     Schnauzer (unspecified)   \n",
       "3      Dog   Female   0.0  32.660  ['Retriever (unspecified)', 'Dog (other)']   \n",
       "6      Dog     Male  14.0  36.287                           Doberman Pinscher   \n",
       "7      Dog  Unknown   0.0   0.000                               Dog (unknown)   \n",
       "8      Dog   Female   5.0  39.460                        Boxer (German Boxer)   \n",
       "9      Dog     Male  10.0  15.000                        Crossbred Canine/dog   \n",
       "11     Dog     Male   9.8   5.534                          Poodle - Miniature   \n",
       "12     Dog     Male  10.0  33.570                          Retriever - Golden   \n",
       "\n",
       "                         drug           outcome   date_in  react_term_code  \\\n",
       "0                    Spinosad  Recovered/Normal  20120627              334   \n",
       "1                    Spinosad  Recovered/Normal  20120627              335   \n",
       "2                    Spinosad  Recovered/Normal  20110928              335   \n",
       "3                    Spinosad   Outcome Unknown  20120601              121   \n",
       "6                  Ivermectin   Outcome Unknown  20150203              305   \n",
       "7                    Spinosad           Unknown  20110303             2649   \n",
       "8                Imidacloprid   Outcome Unknown  20160420             2082   \n",
       "9   Recombinant Human Insulin   Outcome Unknown  20160630              119   \n",
       "11                 Ivermectin   Outcome Unknown  20150319              305   \n",
       "12                 Moxidectin   Outcome Unknown  20150612              130   \n",
       "\n",
       "                           react_term_name  first_exp_da  last_exp_da  \\\n",
       "0                                 Vomiting    20120601.0   20120702.0   \n",
       "1                                   Emesis    20120327.0   20120627.0   \n",
       "2                                   Emesis    20110923.0   20110923.0   \n",
       "3                                Agitation    20120301.0   20120501.0   \n",
       "6             Digestive tract disorder NOS    20150201.0   20150201.0   \n",
       "7   Lack of efficacy (ectoparasite) - flea           NaN          NaN   \n",
       "8                        Emesis (multiple)    20160420.0   20160420.0   \n",
       "9                             Restlessness    20150425.0          NaN   \n",
       "11            Digestive tract disorder NOS    20141201.0   20150301.0   \n",
       "12                                  Crying    20150611.0   20150611.0   \n",
       "\n",
       "        admin_by         route       dosage_form  \n",
       "0   Animal Owner          Oral  Tablet, chewable  \n",
       "1   Animal Owner          Oral  Tablet, chewable  \n",
       "2   Animal Owner          Oral  Tablet, chewable  \n",
       "3   Animal Owner          Oral  Tablet, chewable  \n",
       "6   Animal Owner          Oral  Tablet, chewable  \n",
       "7        Unknown          Oral  Tablet, chewable  \n",
       "8          Other         Other          Solution  \n",
       "9   Animal Owner  Subcutaneous        Suspension  \n",
       "11  Animal Owner          Oral  Tablet, chewable  \n",
       "12  Veterinarian  Subcutaneous        Suspension  "
      ]
     },
     "execution_count": 5,
     "metadata": {},
     "output_type": "execute_result"
    }
   ],
   "source": [
    "dog_df.head(10)"
   ]
  },
  {
   "cell_type": "markdown",
   "id": "ff9e169a",
   "metadata": {},
   "source": [
    "Start looking at age and weight - to see about dropping those that are 0, since those were unknown's from the api pull"
   ]
  },
  {
   "cell_type": "code",
   "execution_count": 6,
   "id": "9bbddfbb",
   "metadata": {},
   "outputs": [
    {
     "data": {
      "text/plain": [
       "0.00     82\n",
       "2.00     55\n",
       "3.00     52\n",
       "4.00     43\n",
       "7.00     43\n",
       "8.00     42\n",
       "5.00     41\n",
       "6.00     39\n",
       "10.00    35\n",
       "11.00    26\n",
       "9.00     23\n",
       "1.00     22\n",
       "12.00    17\n",
       "13.00    17\n",
       "14.00    15\n",
       "15.00    10\n",
       "16.00     7\n",
       "1.50      6\n",
       "17.00     5\n",
       "22.00     4\n",
       "4.50      4\n",
       "18.00     3\n",
       "21.00     3\n",
       "2.50      3\n",
       "1.30      3\n",
       "6.50      2\n",
       "1.25      2\n",
       "3.50      2\n",
       "2.40      1\n",
       "8.75      1\n",
       "3.75      1\n",
       "12.50     1\n",
       "9.70      1\n",
       "12.70     1\n",
       "9.80      1\n",
       "2.90      1\n",
       "19.00     1\n",
       "4.30      1\n",
       "4.20      1\n",
       "23.00     1\n",
       "11.50     1\n",
       "10.80     1\n",
       "4.90      1\n",
       "7.50      1\n",
       "5.50      1\n",
       "20.00     1\n",
       "1.20      1\n",
       "10.50     1\n",
       "16.50     1\n",
       "6.40      1\n",
       "9.60      1\n",
       "Name: age, dtype: int64"
      ]
     },
     "execution_count": 6,
     "metadata": {},
     "output_type": "execute_result"
    }
   ],
   "source": [
    "dog_df['age'].value_counts()"
   ]
  },
  {
   "cell_type": "markdown",
   "id": "de8b51af",
   "metadata": {},
   "source": [
    "Need to drop the dogs with 0 age. Once those are dropped, the age column will be changed to int to combine more of the ages together."
   ]
  },
  {
   "cell_type": "code",
   "execution_count": 7,
   "id": "5cd2848c",
   "metadata": {},
   "outputs": [
    {
     "data": {
      "text/plain": [
       "count    547.000000\n",
       "mean       7.027971\n",
       "std        4.516529\n",
       "min        1.000000\n",
       "25%        3.000000\n",
       "50%        6.000000\n",
       "75%       10.000000\n",
       "max       23.000000\n",
       "Name: age, dtype: float64"
      ]
     },
     "execution_count": 7,
     "metadata": {},
     "output_type": "execute_result"
    }
   ],
   "source": [
    "dog_df.drop(dog_df.index[dog_df['age'] == 0], inplace = True)\n",
    "dog_df['age'].describe()"
   ]
  },
  {
   "cell_type": "code",
   "execution_count": 8,
   "id": "08e35805",
   "metadata": {},
   "outputs": [
    {
     "data": {
      "text/plain": [
       "2     60\n",
       "3     55\n",
       "4     50\n",
       "7     44\n",
       "8     43\n",
       "5     42\n",
       "6     42\n",
       "10    37\n",
       "1     34\n",
       "11    27\n",
       "9     26\n",
       "12    19\n",
       "13    17\n",
       "14    15\n",
       "15    10\n",
       "16     8\n",
       "17     5\n",
       "22     4\n",
       "21     3\n",
       "18     3\n",
       "20     1\n",
       "23     1\n",
       "19     1\n",
       "Name: age, dtype: int64"
      ]
     },
     "execution_count": 8,
     "metadata": {},
     "output_type": "execute_result"
    }
   ],
   "source": [
    "dog_df[[\"age\"]] = dog_df[[\"age\"]].astype(int)\n",
    "dog_df['age'].value_counts()"
   ]
  },
  {
   "cell_type": "markdown",
   "id": "9916f8a3",
   "metadata": {},
   "source": [
    "Time to evaluate the weight field - dropping the ones with zeroes. Also changing this to int in order to combine weights."
   ]
  },
  {
   "cell_type": "code",
   "execution_count": 9,
   "id": "56d9f68f",
   "metadata": {},
   "outputs": [
    {
     "data": {
      "text/plain": [
       "0.000     14\n",
       "6.800      9\n",
       "11.340     7\n",
       "3.629      6\n",
       "4.990      6\n",
       "          ..\n",
       "4.763      1\n",
       "6.033      1\n",
       "3.402      1\n",
       "12.000     1\n",
       "6.010      1\n",
       "Name: weight, Length: 343, dtype: int64"
      ]
     },
     "execution_count": 9,
     "metadata": {},
     "output_type": "execute_result"
    }
   ],
   "source": [
    "dog_df['weight'].value_counts()"
   ]
  },
  {
   "cell_type": "code",
   "execution_count": 10,
   "id": "24a7af96",
   "metadata": {},
   "outputs": [
    {
     "data": {
      "text/plain": [
       "count    533.000000\n",
       "mean      18.705396\n",
       "std       13.339007\n",
       "min        0.573000\n",
       "25%        7.031000\n",
       "50%       15.876000\n",
       "75%       28.580000\n",
       "max       72.575000\n",
       "Name: weight, dtype: float64"
      ]
     },
     "execution_count": 10,
     "metadata": {},
     "output_type": "execute_result"
    }
   ],
   "source": [
    "dog_df.drop(dog_df.index[dog_df['weight'] == 0], inplace = True)\n",
    "dog_df['weight'].describe()"
   ]
  },
  {
   "cell_type": "code",
   "execution_count": 11,
   "id": "ec1e69cf",
   "metadata": {},
   "outputs": [
    {
     "data": {
      "text/plain": [
       "9     31\n",
       "4     30\n",
       "6     26\n",
       "3     24\n",
       "5     23\n",
       "2     23\n",
       "7     20\n",
       "8     18\n",
       "27    18\n",
       "30    15\n",
       "18    13\n",
       "24    13\n",
       "32    13\n",
       "10    13\n",
       "11    13\n",
       "15    13\n",
       "28    12\n",
       "19    12\n",
       "17    12\n",
       "29    12\n",
       "34    11\n",
       "31    11\n",
       "14    11\n",
       "12    10\n",
       "26    10\n",
       "33     9\n",
       "20     9\n",
       "13     9\n",
       "22     9\n",
       "39     8\n",
       "35     8\n",
       "23     8\n",
       "25     6\n",
       "1      6\n",
       "38     6\n",
       "16     5\n",
       "40     5\n",
       "36     5\n",
       "43     4\n",
       "45     3\n",
       "42     3\n",
       "37     3\n",
       "46     3\n",
       "58     3\n",
       "44     2\n",
       "52     2\n",
       "21     2\n",
       "67     1\n",
       "48     1\n",
       "53     1\n",
       "0      1\n",
       "41     1\n",
       "50     1\n",
       "62     1\n",
       "72     1\n",
       "Name: weight, dtype: int64"
      ]
     },
     "execution_count": 11,
     "metadata": {},
     "output_type": "execute_result"
    }
   ],
   "source": [
    "dog_df[[\"weight\"]] = dog_df[[\"weight\"]].astype(int)\n",
    "dog_df['weight'].value_counts()"
   ]
  },
  {
   "cell_type": "markdown",
   "id": "ceafef57",
   "metadata": {},
   "source": [
    "Changing to int cause a 0 to show again so dropping it"
   ]
  },
  {
   "cell_type": "code",
   "execution_count": 12,
   "id": "113084e7",
   "metadata": {},
   "outputs": [],
   "source": [
    "dog_df.drop(dog_df.index[dog_df['weight'] == 0], inplace = True)"
   ]
  },
  {
   "cell_type": "markdown",
   "id": "18abe52a",
   "metadata": {},
   "source": [
    "Look at the 3 date fields next. First_exp_da and last_exp_da have some nulls. Dropping those to see what is left."
   ]
  },
  {
   "cell_type": "code",
   "execution_count": 13,
   "id": "4951abef",
   "metadata": {},
   "outputs": [
    {
     "data": {
      "text/plain": [
       "36"
      ]
     },
     "execution_count": 13,
     "metadata": {},
     "output_type": "execute_result"
    }
   ],
   "source": [
    "dog_df['last_exp_da'].isnull().sum()"
   ]
  },
  {
   "cell_type": "code",
   "execution_count": 14,
   "id": "ba4c867c",
   "metadata": {},
   "outputs": [],
   "source": [
    "dog_df.dropna(inplace=True)"
   ]
  },
  {
   "cell_type": "markdown",
   "id": "67c3f34c",
   "metadata": {},
   "source": [
    "Dropping the nulls leaves 494 rows in the dog_df dataframe"
   ]
  },
  {
   "cell_type": "markdown",
   "id": "16886dfc",
   "metadata": {},
   "source": [
    "first_exp_da and last_exp_da fields were brought in as float. However, I couldn't convert directly to a date field because the date wasn't fully filled out. I'm going to default to the first day of the month for those missing the day part of the date. If the month is also not fully there, I will default to January, just to get a fully formed date.\n",
    "- Converting the date fields from float to string first\n",
    "- Slicing out the individual pieces of the date to create new columns\n",
    "- Using np.where to update the day and month as mentioned above\n",
    "- Put the pieces back together\n",
    "- Convert resulting date to a date field.\n"
   ]
  },
  {
   "cell_type": "code",
   "execution_count": 15,
   "id": "4f95da4f",
   "metadata": {},
   "outputs": [],
   "source": [
    "dog_df['first_exp_da'] = dog_df['first_exp_da'].astype(str)\n",
    "dog_df['last_exp_da'] = dog_df['last_exp_da'].astype(str)"
   ]
  },
  {
   "cell_type": "code",
   "execution_count": 16,
   "id": "a7045cc0",
   "metadata": {},
   "outputs": [],
   "source": [
    "dog_df['year_first_exp'] = dog_df.first_exp_da.str.slice(0,4)\n",
    "dog_df['month_first_exp'] = dog_df.first_exp_da.str.slice(4,6)\n",
    "dog_df['day_first_exp'] = dog_df.first_exp_da.str.slice(6,8)\n",
    "\n",
    "dog_df['year_last_exp'] = dog_df.last_exp_da.str.slice(0,4)\n",
    "dog_df['month_last_exp'] = dog_df.last_exp_da.str.slice(4,6)\n",
    "dog_df['day_last_exp'] = dog_df.last_exp_da.str.slice(6,8)"
   ]
  },
  {
   "cell_type": "code",
   "execution_count": 17,
   "id": "9290dbbc",
   "metadata": {},
   "outputs": [],
   "source": [
    "dog_df['day_first_exp'] = np.where(dog_df.day_first_exp.lt('01'),'01',dog_df.day_first_exp) \n",
    "dog_df['month_first_exp'] = np.where(dog_df.month_first_exp.lt('01'),'01',dog_df.month_first_exp)\n",
    "dog_df['day_last_exp'] = np.where(dog_df.day_last_exp.lt('01'),'01',dog_df.day_last_exp)\n",
    "dog_df['month_last_exp'] = np.where(dog_df.month_last_exp.lt('01'),'01',dog_df.month_last_exp)"
   ]
  },
  {
   "cell_type": "code",
   "execution_count": 18,
   "id": "90a61dac",
   "metadata": {},
   "outputs": [],
   "source": [
    "dog_df['updated_first_exp'] = dog_df['year_first_exp'] + dog_df['month_first_exp'] + dog_df['day_first_exp']\n",
    "dog_df['updated_last_exp'] = dog_df['year_last_exp'] + dog_df['month_last_exp'] + dog_df['day_last_exp']"
   ]
  },
  {
   "cell_type": "code",
   "execution_count": 19,
   "id": "3abea2f3",
   "metadata": {},
   "outputs": [
    {
     "data": {
      "text/plain": [
       "20130101    7\n",
       "20120101    7\n",
       "20140601    4\n",
       "20130915    4\n",
       "20130301    4\n",
       "           ..\n",
       "20081201    1\n",
       "20120919    1\n",
       "20120201    1\n",
       "20120906    1\n",
       "20140405    1\n",
       "Name: updated_first_exp, Length: 406, dtype: int64"
      ]
     },
     "execution_count": 19,
     "metadata": {},
     "output_type": "execute_result"
    }
   ],
   "source": [
    "dog_df['updated_first_exp'].value_counts()"
   ]
  },
  {
   "cell_type": "code",
   "execution_count": 20,
   "id": "88a1fce2",
   "metadata": {},
   "outputs": [
    {
     "data": {
      "text/plain": [
       "20170301    4\n",
       "20170101    4\n",
       "20180901    4\n",
       "20140601    3\n",
       "20170601    3\n",
       "           ..\n",
       "20140403    1\n",
       "20141009    1\n",
       "20140416    1\n",
       "20140213    1\n",
       "20140419    1\n",
       "Name: updated_last_exp, Length: 410, dtype: int64"
      ]
     },
     "execution_count": 20,
     "metadata": {},
     "output_type": "execute_result"
    }
   ],
   "source": [
    "dog_df['updated_last_exp'].value_counts()"
   ]
  },
  {
   "cell_type": "code",
   "execution_count": 21,
   "id": "1f292892",
   "metadata": {},
   "outputs": [],
   "source": [
    "dog_df['updated_first_exp'] = pd.to_datetime(dog_df['updated_first_exp'], format=\"%Y%m%d\")\n",
    "dog_df['updated_last_exp'] = pd.to_datetime(dog_df['updated_last_exp'], format=\"%Y%m%d\")"
   ]
  },
  {
   "cell_type": "code",
   "execution_count": 22,
   "id": "52cf1419",
   "metadata": {},
   "outputs": [
    {
     "name": "stdout",
     "output_type": "stream",
     "text": [
      "<class 'pandas.core.frame.DataFrame'>\n",
      "Int64Index: 494 entries, 0 to 749\n",
      "Data columns (total 23 columns):\n",
      " #   Column             Non-Null Count  Dtype         \n",
      "---  ------             --------------  -----         \n",
      " 0   species            494 non-null    object        \n",
      " 1   gender             494 non-null    object        \n",
      " 2   age                494 non-null    int32         \n",
      " 3   weight             494 non-null    int32         \n",
      " 4   breed              494 non-null    object        \n",
      " 5   drug               494 non-null    object        \n",
      " 6   outcome            494 non-null    object        \n",
      " 7   date_in            494 non-null    int64         \n",
      " 8   react_term_code    494 non-null    int64         \n",
      " 9   react_term_name    494 non-null    object        \n",
      " 10  first_exp_da       494 non-null    object        \n",
      " 11  last_exp_da        494 non-null    object        \n",
      " 12  admin_by           494 non-null    object        \n",
      " 13  route              494 non-null    object        \n",
      " 14  dosage_form        494 non-null    object        \n",
      " 15  year_first_exp     494 non-null    object        \n",
      " 16  month_first_exp    494 non-null    object        \n",
      " 17  day_first_exp      494 non-null    object        \n",
      " 18  year_last_exp      494 non-null    object        \n",
      " 19  month_last_exp     494 non-null    object        \n",
      " 20  day_last_exp       494 non-null    object        \n",
      " 21  updated_first_exp  494 non-null    datetime64[ns]\n",
      " 22  updated_last_exp   494 non-null    datetime64[ns]\n",
      "dtypes: datetime64[ns](2), int32(2), int64(2), object(17)\n",
      "memory usage: 88.8+ KB\n"
     ]
    }
   ],
   "source": [
    "dog_df.info()"
   ]
  },
  {
   "cell_type": "markdown",
   "id": "17ea32b5",
   "metadata": {},
   "source": [
    "Can now drop the original exp dates and the intermediate ones."
   ]
  },
  {
   "cell_type": "code",
   "execution_count": 23,
   "id": "640f542c",
   "metadata": {},
   "outputs": [],
   "source": [
    "dog_df.drop(['first_exp_da', 'last_exp_da', 'year_first_exp', 'month_first_exp', 'day_first_exp', 'year_last_exp', 'month_last_exp', 'day_last_exp'], axis='columns', inplace=True)"
   ]
  },
  {
   "cell_type": "code",
   "execution_count": 24,
   "id": "c68eecb9",
   "metadata": {},
   "outputs": [
    {
     "name": "stdout",
     "output_type": "stream",
     "text": [
      "<class 'pandas.core.frame.DataFrame'>\n",
      "Int64Index: 494 entries, 0 to 749\n",
      "Data columns (total 15 columns):\n",
      " #   Column             Non-Null Count  Dtype         \n",
      "---  ------             --------------  -----         \n",
      " 0   species            494 non-null    object        \n",
      " 1   gender             494 non-null    object        \n",
      " 2   age                494 non-null    int32         \n",
      " 3   weight             494 non-null    int32         \n",
      " 4   breed              494 non-null    object        \n",
      " 5   drug               494 non-null    object        \n",
      " 6   outcome            494 non-null    object        \n",
      " 7   date_in            494 non-null    int64         \n",
      " 8   react_term_code    494 non-null    int64         \n",
      " 9   react_term_name    494 non-null    object        \n",
      " 10  admin_by           494 non-null    object        \n",
      " 11  route              494 non-null    object        \n",
      " 12  dosage_form        494 non-null    object        \n",
      " 13  updated_first_exp  494 non-null    datetime64[ns]\n",
      " 14  updated_last_exp   494 non-null    datetime64[ns]\n",
      "dtypes: datetime64[ns](2), int32(2), int64(2), object(9)\n",
      "memory usage: 57.9+ KB\n"
     ]
    }
   ],
   "source": [
    "dog_df.info()"
   ]
  },
  {
   "cell_type": "markdown",
   "id": "a906038d",
   "metadata": {},
   "source": [
    "### DataFrame Manipulation"
   ]
  },
  {
   "cell_type": "markdown",
   "id": "eb51e356",
   "metadata": {},
   "source": [
    "Continuing clean up of the dataframe"
   ]
  },
  {
   "cell_type": "code",
   "execution_count": 25,
   "id": "142c74c9",
   "metadata": {},
   "outputs": [
    {
     "data": {
      "text/plain": [
       "Outcome Unknown           274\n",
       "Recovered/Normal          131\n",
       "Ongoing                    53\n",
       "Recovered with Sequela     26\n",
       "Died                        6\n",
       "Euthanized                  4\n",
       "Name: outcome, dtype: int64"
      ]
     },
     "execution_count": 25,
     "metadata": {},
     "output_type": "execute_result"
    }
   ],
   "source": [
    "dog_df['outcome'].value_counts()"
   ]
  },
  {
   "cell_type": "code",
   "execution_count": 26,
   "id": "100f4784",
   "metadata": {},
   "outputs": [
    {
     "data": {
      "text/plain": [
       "Retriever - Labrador                                45\n",
       "Crossbred Canine/dog                                33\n",
       "Chihuahua                                           18\n",
       "Beagle                                              15\n",
       "Shepherd Dog - German                               15\n",
       "                                                    ..\n",
       "['Pointer (unspecified)', 'Dog (unknown)']           1\n",
       "['Terrier (unspecified)', 'Dog (other)']             1\n",
       "['Shepherd Dog - German', 'Crustacea (unknown)']     1\n",
       "Terrier - Cairn                                      1\n",
       "Schipperke                                           1\n",
       "Name: breed, Length: 152, dtype: int64"
      ]
     },
     "execution_count": 26,
     "metadata": {},
     "output_type": "execute_result"
    }
   ],
   "source": [
    "dog_df['breed'].value_counts()"
   ]
  },
  {
   "cell_type": "markdown",
   "id": "44c6b806",
   "metadata": {},
   "source": [
    "There's a lot of strange characters in the breed name. Try to strip them out first before putting the breeds together."
   ]
  },
  {
   "cell_type": "code",
   "execution_count": 27,
   "id": "4e153bb2",
   "metadata": {},
   "outputs": [],
   "source": [
    "dog_df['breed'] = dog_df['breed'].str.strip('[]')\n",
    "dog_df['breed'] = dog_df['breed'].str.strip('()')\n"
   ]
  },
  {
   "cell_type": "code",
   "execution_count": 28,
   "id": "670afb2b",
   "metadata": {},
   "outputs": [
    {
     "data": {
      "text/plain": [
       "Retriever - Labrador                              45\n",
       "Crossbred Canine/dog                              33\n",
       "Chihuahua                                         18\n",
       "Beagle                                            15\n",
       "Shepherd Dog - German                             15\n",
       "                                                  ..\n",
       "'Pointer (unspecified)', 'Dog (unknown)'           1\n",
       "'Terrier (unspecified)', 'Dog (other)'             1\n",
       "'Shepherd Dog - German', 'Crustacea (unknown)'     1\n",
       "Terrier - Cairn                                    1\n",
       "Schipperke                                         1\n",
       "Name: breed, Length: 152, dtype: int64"
      ]
     },
     "execution_count": 28,
     "metadata": {},
     "output_type": "execute_result"
    }
   ],
   "source": [
    "dog_df['breed'].value_counts()"
   ]
  },
  {
   "cell_type": "markdown",
   "id": "14c38fed",
   "metadata": {},
   "source": [
    "Resetting the index after dropping rows"
   ]
  },
  {
   "cell_type": "code",
   "execution_count": 29,
   "id": "e0bba70a",
   "metadata": {},
   "outputs": [],
   "source": [
    "dog_df.reset_index(drop=True, inplace=True)"
   ]
  },
  {
   "cell_type": "code",
   "execution_count": 30,
   "id": "f1ad669b",
   "metadata": {},
   "outputs": [
    {
     "name": "stdout",
     "output_type": "stream",
     "text": [
      "<class 'pandas.core.frame.DataFrame'>\n",
      "RangeIndex: 494 entries, 0 to 493\n",
      "Data columns (total 15 columns):\n",
      " #   Column             Non-Null Count  Dtype         \n",
      "---  ------             --------------  -----         \n",
      " 0   species            494 non-null    object        \n",
      " 1   gender             494 non-null    object        \n",
      " 2   age                494 non-null    int32         \n",
      " 3   weight             494 non-null    int32         \n",
      " 4   breed              494 non-null    object        \n",
      " 5   drug               494 non-null    object        \n",
      " 6   outcome            494 non-null    object        \n",
      " 7   date_in            494 non-null    int64         \n",
      " 8   react_term_code    494 non-null    int64         \n",
      " 9   react_term_name    494 non-null    object        \n",
      " 10  admin_by           494 non-null    object        \n",
      " 11  route              494 non-null    object        \n",
      " 12  dosage_form        494 non-null    object        \n",
      " 13  updated_first_exp  494 non-null    datetime64[ns]\n",
      " 14  updated_last_exp   494 non-null    datetime64[ns]\n",
      "dtypes: datetime64[ns](2), int32(2), int64(2), object(9)\n",
      "memory usage: 54.2+ KB\n"
     ]
    }
   ],
   "source": [
    "dog_df.info()"
   ]
  },
  {
   "cell_type": "code",
   "execution_count": 31,
   "id": "ddcdafbf",
   "metadata": {},
   "outputs": [],
   "source": [
    "dog_df['breed'].replace(\"'Terrier (unspecified)', 'Dog (other)'\",'Terrier', inplace=True)\n",
    "dog_df['breed'].replace(\"'Retriever - Golden', 'Poodle (unspecified)'\", 'Retriever - Golden', inplace=True)\n",
    "dog_df['breed'].replace(\"'Spitz - German Pomeranian', 'Chihuahua'\", 'Chihuahua', inplace=True)\n",
    "dog_df['breed'].replace(\"'Shepherd Dog - German', 'Crustacea (unknown)'\",'Shepherd Dog - German', inplace=True)"
   ]
  },
  {
   "cell_type": "code",
   "execution_count": 32,
   "id": "95519adf",
   "metadata": {},
   "outputs": [],
   "source": [
    "dog_df['breed'].replace('Terrier - Border', 'Terrier', inplace=True)\n",
    "dog_df['breed'].replace(\"'Maltese', 'Japanese Chin (Spaniel)', 'Papillon - Spaniel - Continental Toy (with erect ears or with dropped ears (Phaléne))', 'Shih Tzu'\",'Maltese', inplace=True)\n",
    "dog_df['breed'].replace(\"'Shepherd Dog - Australian', 'Retriever - Labrador'\",'Retriever - Labrador', inplace=True)\n",
    "dog_df['breed'].replace(\"'Chihuahua', 'Crossbred Canine/dog'\", 'Chihuahua', inplace=True)"
   ]
  },
  {
   "cell_type": "code",
   "execution_count": 33,
   "id": "2c6eebba",
   "metadata": {},
   "outputs": [],
   "source": [
    "dog_df['breed'].replace(\"'Spaniel - Cocker American'\", 'Spaniel - Cocker American', inplace=True)\n",
    "dog_df['breed'].replace(\"'Rottweiler'\", 'Rottweiler',inplace=True)\n",
    "dog_df['breed'].replace(\"'Poodle - Standard'\", 'Poodle - Standard', inplace=True)\n",
    "dog_df['breed'].replace(\"Retriever - Labrador', 'Dog (unknown)\", 'Retriever - Labrador', inplace=True)\n",
    "dog_df['breed'].replace('Dog (unknown', 'Dog', inplace=True)\n",
    "dog_df['breed'].replace('Boxer (German Boxer','German Boxer', inplace=True)\n",
    "dog_df['breed'].replace('Dachshund (unspecified', 'Dachshund', inplace=True)\n",
    "dog_df['breed'].replace(\"Retriever - Labrador', 'Poodle (unspecified)\", 'Retriever - Labrador Poodle', inplace=True)\n",
    "dog_df['breed'].replace('Hound (unspecified)', 'Hound', inplace=True)\n",
    "dog_df['breed'].replace('Hound (unspecified', 'Hound', inplace=True)\n",
    "dog_df['breed'].replace(\"'Retriever - Labrador', 'Dog (unknown)', 'Bulldog - French'\", 'Retriever - Labrador', inplace=True)\n",
    "dog_df['breed'].replace(\"'Maine Coon', 'Ragdoll'\", 'Maine Coon', inplace=True)\n",
    "dog_df['breed'].replace('Dachshund - Standard Wire-haired', 'Dachshund', inplace=True)\n",
    "dog_df['breed'].replace(\"'Retriever - Labrador', 'Shepherd (unspecified)'\", 'Retriever - Labrador',inplace=True)\n",
    "dog_df['breed'].replace('Terrier - Silky', 'Terrier', inplace=True)"
   ]
  },
  {
   "cell_type": "code",
   "execution_count": 34,
   "id": "d04386a5",
   "metadata": {},
   "outputs": [],
   "source": [
    "dog_df['breed'].replace(\"'Terrier - Yorkshire', 'Chihuahua'\", 'Terrier - Yorkshire',inplace=True)\n",
    "dog_df['breed'].replace(\"'Siberian Husky', 'Dog (unknown)'\",'Siberian Husky', inplace=True)\n",
    "dog_df['breed'].replace(\"'Poodle (unspecified)', 'Dog (unknown)'\",'Poodle', inplace=True)\n",
    "dog_df['breed'].replace(\"'Mastiff', 'Dog (unknown)'\",'Mastiff', inplace=True)\n",
    "dog_df['breed'].replace(\"'Shepherd Dog - German', 'Crossbred Canine/dog'\", 'Shepherd Dog - German', inplace=True)\n",
    "dog_df['breed'].replace(\"'Cattle Dog - Australian (blue heeler, red heeler, Queensland cattledog)', 'Collie - Border'\", 'Cattle Dog', inplace=True)\n",
    "dog_df['breed'].replace(\"'Cattle Dog - Australian (blue heeler, red heeler, Queensland cattledog)', 'Dog(unknown)'\", 'Cattle Dog', inplace=True)\n",
    "dog_df['breed'].replace(\"'Cattle Dog - Australian (blue heeler, red heeler, Queensland cattledog)', 'Dog (unknown)'\", 'Cattle Dog', inplace=True)\n",
    "dog_df['breed'].replace(\"'Maltese','Poodle (unspecified)'\",'Maltese',inplace=True)\n",
    "dog_df['breed'].replace(\"'Maltese', 'Poodle (unspecified)'\",'Maltese', inplace=True)\n",
    "dog_df['breed'].replace(\"'Retriever - Labrador', 'Dog (unknown)'\", 'Retriever - Labrador', inplace=True)\n",
    "dog_df['breed'].replace(\"'Retriever - Labrador', 'Dog (unknown)'\", 'Retriever - Labrador', inplace=True)\n",
    "dog_df['breed'].replace('Shepherd (unspecified', 'Shepherd', inplace=True)\n"
   ]
  },
  {
   "cell_type": "code",
   "execution_count": 35,
   "id": "38d23b0c",
   "metadata": {},
   "outputs": [],
   "source": [
    "dog_df['breed'].replace(\"'Pug', 'Chihuahua'\", 'Pug', inplace=True)\n",
    "dog_df['breed'].replace(\"'Spaniel - Cocker American', 'Poodle (unspecified)'\", 'Spaniel - Cocker American', inplace=True)\n",
    "dog_df['breed'].replace(\"'Shepherd Dog - German', 'Dog (unknown)'\", 'Shepherd Dog - German', inplace=True)\n",
    "dog_df['breed'].replace(\"'Shepherd (unspecified)', 'Dog (unknown)'\", 'Shepherd', inplace=True)\n",
    "dog_df['breed'].replace(\"'Alaskan Malamute', 'Retriever - Labrador'\", 'Alaskan Malamute', inplace=True)\n",
    "dog_df['breed'].replace(\"'Bulldog', 'Pit Bull'\", 'Bulldog', inplace=True)\n",
    "dog_df['breed'].replace(\"'Chihuahua', 'Dachshund (unspecified)'\", 'Chihuahua', inplace=True)\n",
    "dog_df['breed'].replace(\"'Chihuahua', 'Greyhound - Italian'\", 'Chihuahua', inplace=True)\n",
    "dog_df['breed'].replace(\"'Chinese Crested Dog (unspecified)', 'Poodle (unspecified)'\", 'Chinese Crested Dog', inplace=True)\n",
    "dog_df['breed'].replace(\"'Collie - Border', 'Dog (unknown)'\", 'Collie - Border', inplace=True)\n",
    "dog_df['breed'].replace(\"'Crossbred Canine/dog', 'Retriever - Labrador'\", 'Retriever - Labrador', inplace=True)\n",
    "dog_df['breed'].replace(\"'Crossbred Canine/dog', 'Shepherd Dog - German'\", 'Shepherd Dog - German', inplace=True)\n",
    "dog_df['breed'].replace(\"'Dachshund (unspecified)', 'Dog (unknown)'\", 'Dachshund', inplace=True)\n",
    "dog_df['breed'].replace(\"'Great Pyrenees', 'Dog (unknown)'\", 'Great Pyrenees', inplace=True)\n",
    "dog_df['breed'].replace(\"'Crossbred Canine/dog', 'Retriever - Labrador'\", 'Retriever - Labrador', inplace=True)\n"
   ]
  },
  {
   "cell_type": "code",
   "execution_count": 36,
   "id": "1206eb97",
   "metadata": {},
   "outputs": [],
   "source": [
    "dog_df['breed'].replace(\"'Terrier (unspecified)', 'Dog (unknown)'\", 'Terrier', inplace=True)\n",
    "dog_df['breed'].replace(\"'Terrier - Yorkshire', 'Dog (unknown)'\", 'Terrier - Yorkshire', inplace=True)\n",
    "dog_df['breed'].replace(\"'Spitz - German Pomeranian', 'Dog (unknown)'\", 'Spitz - German Pomeranian', inplace=True)\n",
    "dog_df['breed'].replace(\"'Pit Bull', 'Dog (unknown)'\", 'Pit Bull', inplace=True)\n",
    "dog_df['breed'].replace(\"'Retriever - Labrador', 'Poodle (unspecified)'\", 'Retriever - Labrador', inplace=True)\n",
    "dog_df['breed'].replace(\"'Poodle (unspecified)', 'Terrier (unspecified)'\", 'Poodle', inplace=True)\n",
    "dog_df['breed'].replace(\"'Crossbred Canine/dog', 'Retriever - Labrador'\", 'Retriever - Labrador', inplace=True)\n",
    "dog_df['breed'].replace(\"'Crossbred Canine/dog', 'Retriever - Labrador'\", 'Retriever - Labrador', inplace=True)\n",
    "dog_df['breed'].replace(\"'Crossbred Canine/dog', 'Retriever - Labrador'\", 'Retriever - Labrador', inplace=True)\n",
    "dog_df['breed'].replace(\"'Crossbred Canine/dog', 'Retriever - Labrador'\", 'Retriever - Labrador', inplace=True)"
   ]
  },
  {
   "cell_type": "code",
   "execution_count": 37,
   "id": "bca119f9",
   "metadata": {},
   "outputs": [
    {
     "data": {
      "text/plain": [
       "Retriever - Labrador             64\n",
       "Crossbred Canine/dog             33\n",
       "Shepherd Dog - German            21\n",
       "Chihuahua                        21\n",
       "Terrier - Yorkshire              16\n",
       "                                 ..\n",
       "'Rottweiler', 'Dog (unknown)'     1\n",
       "Shar Pei                          1\n",
       "'Pug', 'Shih Tzu'                 1\n",
       "Griffon - Brussels                1\n",
       "Schipperke                        1\n",
       "Name: breed, Length: 122, dtype: int64"
      ]
     },
     "execution_count": 37,
     "metadata": {},
     "output_type": "execute_result"
    }
   ],
   "source": [
    "dog_df['breed'].value_counts()"
   ]
  },
  {
   "cell_type": "code",
   "execution_count": 38,
   "id": "a3f419f8",
   "metadata": {},
   "outputs": [],
   "source": [
    "# Get the count of each value\n",
    "value_counts = dog_df['breed'].value_counts()\n",
    "\n",
    "# Select the values where the count is less than 2\n",
    "to_remove = value_counts[value_counts < 2].index\n",
    "\n",
    "# Keep rows where the breed column is not in to_remove\n",
    "dog_df = dog_df[~dog_df.breed.isin(to_remove)]"
   ]
  },
  {
   "cell_type": "code",
   "execution_count": 39,
   "id": "2e05d05e",
   "metadata": {},
   "outputs": [
    {
     "name": "stdout",
     "output_type": "stream",
     "text": [
      "<class 'pandas.core.frame.DataFrame'>\n",
      "Int64Index: 434 entries, 1 to 493\n",
      "Data columns (total 15 columns):\n",
      " #   Column             Non-Null Count  Dtype         \n",
      "---  ------             --------------  -----         \n",
      " 0   species            434 non-null    object        \n",
      " 1   gender             434 non-null    object        \n",
      " 2   age                434 non-null    int32         \n",
      " 3   weight             434 non-null    int32         \n",
      " 4   breed              434 non-null    object        \n",
      " 5   drug               434 non-null    object        \n",
      " 6   outcome            434 non-null    object        \n",
      " 7   date_in            434 non-null    int64         \n",
      " 8   react_term_code    434 non-null    int64         \n",
      " 9   react_term_name    434 non-null    object        \n",
      " 10  admin_by           434 non-null    object        \n",
      " 11  route              434 non-null    object        \n",
      " 12  dosage_form        434 non-null    object        \n",
      " 13  updated_first_exp  434 non-null    datetime64[ns]\n",
      " 14  updated_last_exp   434 non-null    datetime64[ns]\n",
      "dtypes: datetime64[ns](2), int32(2), int64(2), object(9)\n",
      "memory usage: 50.9+ KB\n"
     ]
    }
   ],
   "source": [
    "dog_df.info()"
   ]
  },
  {
   "cell_type": "code",
   "execution_count": 40,
   "id": "d6c0e951",
   "metadata": {},
   "outputs": [
    {
     "data": {
      "text/plain": [
       "334     70\n",
       "335     40\n",
       "305     34\n",
       "1039    28\n",
       "2430    24\n",
       "        ..\n",
       "193      1\n",
       "998      1\n",
       "124      1\n",
       "2071     1\n",
       "837      1\n",
       "Name: react_term_code, Length: 103, dtype: int64"
      ]
     },
     "execution_count": 40,
     "metadata": {},
     "output_type": "execute_result"
    }
   ],
   "source": [
    "dog_df['react_term_code'].value_counts()"
   ]
  },
  {
   "cell_type": "code",
   "execution_count": 41,
   "id": "5e61d3c3",
   "metadata": {},
   "outputs": [
    {
     "data": {
      "text/plain": [
       "Vomiting                                       70\n",
       "Emesis                                         40\n",
       "Digestive tract disorder NOS                   34\n",
       "Lack of efficacy - NOS                         28\n",
       "Lack of efficacy (endoparasite) - heartworm    23\n",
       "                                               ..\n",
       "Decreased appetite                              1\n",
       "Urinary tract infection                         1\n",
       "General illness                                 1\n",
       "Skin irritation                                 1\n",
       "Abnormal breathing                              1\n",
       "Name: react_term_name, Length: 106, dtype: int64"
      ]
     },
     "execution_count": 41,
     "metadata": {},
     "output_type": "execute_result"
    }
   ],
   "source": [
    "dog_df['react_term_name'].value_counts()"
   ]
  },
  {
   "cell_type": "code",
   "execution_count": 42,
   "id": "3c52c3f5",
   "metadata": {},
   "outputs": [],
   "source": [
    "dog_df['react_term_name'].replace('Emesis (multiple)', 'Emesis', inplace=True)"
   ]
  },
  {
   "cell_type": "code",
   "execution_count": 43,
   "id": "bd2a0f75",
   "metadata": {},
   "outputs": [
    {
     "data": {
      "text/plain": [
       "Spinosad                                                         151\n",
       "Ivermectin                                                        72\n",
       "Milbemycin Oxime                                                  38\n",
       "Afoxolaner                                                        22\n",
       "Moxidectin                                                        13\n",
       "Nitenpyram                                                         9\n",
       "Imidacloprid                                                       8\n",
       "Melarsomine Dihydrochloride Injection                              7\n",
       "Milbemycin Oxime, Lufenuron                                        7\n",
       "Sarolaner                                                          7\n",
       "Oclacitinib Maleate                                                6\n",
       "Ivermectin 272Mcg, Pyrantel Pamoate 228Mg, Praziquantel 228Mg      6\n",
       "Fluralaner Chew Tablets                                            6\n",
       "Ivermectin/Pyrantel Pamoate Chewable 136Mcg/326Mg                  5\n",
       "Ivermectin/Pyrantel Pamoate Chewable 272Mcg/652Mg                  5\n",
       "Pyrantel Pamoate;Sarolaner                                         5\n",
       "Milbemcyin Oxime, Lufenuron, Praziquantel                          5\n",
       "Melarsomine Dihydrochloride                                        4\n",
       "Ivermectin/Pyrantel Pamoate Chewable 68Mcg/163Mg                   4\n",
       "Cyclosporine A                                                     4\n",
       "Selamectin                                                         4\n",
       "Florfenicol                                                        3\n",
       "Pyrantel Pamoate/Praziquantel                                      3\n",
       "Carprofen                                                          3\n",
       "Trilostane                                                         3\n",
       "Pyrantel Pamoate                                                   3\n",
       "Polysulfated Glycosaminoglycan                                     2\n",
       "Afoxolaner 136 Mg Chewable Tablets                                 2\n",
       "Afoxolaner 68 Mg Chewable Tablets                                  2\n",
       "Maropitant Citrate                                                 2\n",
       "Grapiprant                                                         2\n",
       "Lotilaner                                                          2\n",
       "Dexmedetomidine                                                    1\n",
       "Firocoxib                                                          1\n",
       "Fluralaner 13.64% Chew Tablets                                     1\n",
       "Meloxicam                                                          1\n",
       "Desoxycorticosterone Pivalate                                      1\n",
       "Estriol Tablets                                                    1\n",
       "Lufenuron                                                          1\n",
       "Phytovet Ear Cleansing Solution                                    1\n",
       "Enrofloxacin                                                       1\n",
       "Praziquantel                                                       1\n",
       "Cefovecin                                                          1\n",
       "Fluoxetine Hydrochloride                                           1\n",
       "Ivermectin 68Mcg Pyrantel 57Mg                                     1\n",
       "Phenylpropanolamine Hcl                                            1\n",
       "Pyrantel                                                           1\n",
       "Phenylpropanolamine                                                1\n",
       "Florfenicol/Terbinafine Hydrochloride/Mometasone Furoate           1\n",
       "Ivermectin/Pyrantel Chew. Dog 272Mcg/227Mg                         1\n",
       "Acepromazine Maleate                                               1\n",
       "Name: drug, dtype: int64"
      ]
     },
     "execution_count": 43,
     "metadata": {},
     "output_type": "execute_result"
    }
   ],
   "source": [
    "dog_df['drug'].value_counts()"
   ]
  },
  {
   "cell_type": "markdown",
   "id": "331f3ba4",
   "metadata": {},
   "source": [
    "Decided to drop rows that only have count of 1 drug"
   ]
  },
  {
   "cell_type": "code",
   "execution_count": 44,
   "id": "402c075a",
   "metadata": {},
   "outputs": [],
   "source": [
    "# Get the count of each value\n",
    "value_counts2 = dog_df['drug'].value_counts()\n",
    "\n",
    "# Select the values where the count is less than 2\n",
    "to_remove2 = value_counts2[value_counts2 < 2].index\n",
    "\n",
    "# Keep rows where the breed column is not in to_remove\n",
    "dog_df = dog_df[~dog_df.drug.isin(to_remove2)]"
   ]
  },
  {
   "cell_type": "code",
   "execution_count": 45,
   "id": "cc39462d",
   "metadata": {},
   "outputs": [
    {
     "data": {
      "text/plain": [
       "Spinosad                                                         151\n",
       "Ivermectin                                                        72\n",
       "Milbemycin Oxime                                                  38\n",
       "Afoxolaner                                                        22\n",
       "Moxidectin                                                        13\n",
       "Nitenpyram                                                         9\n",
       "Imidacloprid                                                       8\n",
       "Sarolaner                                                          7\n",
       "Milbemycin Oxime, Lufenuron                                        7\n",
       "Melarsomine Dihydrochloride Injection                              7\n",
       "Fluralaner Chew Tablets                                            6\n",
       "Oclacitinib Maleate                                                6\n",
       "Ivermectin 272Mcg, Pyrantel Pamoate 228Mg, Praziquantel 228Mg      6\n",
       "Ivermectin/Pyrantel Pamoate Chewable 136Mcg/326Mg                  5\n",
       "Pyrantel Pamoate;Sarolaner                                         5\n",
       "Milbemcyin Oxime, Lufenuron, Praziquantel                          5\n",
       "Ivermectin/Pyrantel Pamoate Chewable 272Mcg/652Mg                  5\n",
       "Ivermectin/Pyrantel Pamoate Chewable 68Mcg/163Mg                   4\n",
       "Cyclosporine A                                                     4\n",
       "Melarsomine Dihydrochloride                                        4\n",
       "Selamectin                                                         4\n",
       "Trilostane                                                         3\n",
       "Pyrantel Pamoate                                                   3\n",
       "Carprofen                                                          3\n",
       "Pyrantel Pamoate/Praziquantel                                      3\n",
       "Florfenicol                                                        3\n",
       "Afoxolaner 68 Mg Chewable Tablets                                  2\n",
       "Polysulfated Glycosaminoglycan                                     2\n",
       "Grapiprant                                                         2\n",
       "Lotilaner                                                          2\n",
       "Maropitant Citrate                                                 2\n",
       "Afoxolaner 136 Mg Chewable Tablets                                 2\n",
       "Name: drug, dtype: int64"
      ]
     },
     "execution_count": 45,
     "metadata": {},
     "output_type": "execute_result"
    }
   ],
   "source": [
    "dog_df['drug'].value_counts()"
   ]
  },
  {
   "cell_type": "markdown",
   "id": "bc399576",
   "metadata": {},
   "source": [
    "Finally, we look at the \"Gender\" category:"
   ]
  },
  {
   "cell_type": "code",
   "execution_count": 46,
   "id": "52b39994",
   "metadata": {
    "scrolled": true
   },
   "outputs": [
    {
     "data": {
      "text/plain": [
       "Female     232\n",
       "Male       178\n",
       "Unknown      3\n",
       "Mixed        2\n",
       "Name: gender, dtype: int64"
      ]
     },
     "execution_count": 46,
     "metadata": {},
     "output_type": "execute_result"
    }
   ],
   "source": [
    "dog_df['gender'].value_counts()"
   ]
  },
  {
   "cell_type": "markdown",
   "id": "91f2955f",
   "metadata": {},
   "source": [
    "There are four categories, but we didn't drop \"Unknown\" and \"Mixed\" from the set. \"Unknown\" comes from lack of information, and \"Mixed\" may or may not be a hermaphrodite. Since there are only 5 total, probably could have dropped them but thought it was a point of interest.\n"
   ]
  },
  {
   "cell_type": "code",
   "execution_count": 53,
   "id": "2dcdf9c1",
   "metadata": {},
   "outputs": [],
   "source": [
    "dog_df.to_csv(\"dog_data.csv\",index=False)"
   ]
  },
  {
   "cell_type": "markdown",
   "id": "0d0ca936",
   "metadata": {},
   "source": [
    "After all of the preprocessing was completed, the dog_df dataframe was written to a csv file. Now reading that back in to use for database work."
   ]
  },
  {
   "cell_type": "code",
   "execution_count": 54,
   "id": "2ca7c508",
   "metadata": {},
   "outputs": [],
   "source": [
    "dog_df = pd.read_csv('dog_data.csv')"
   ]
  },
  {
   "cell_type": "markdown",
   "id": "7c5c4514",
   "metadata": {},
   "source": [
    "In order to have ID's for each of the resulting tables, I am going to add columns to the original dataframe first - need one for drug_id (needs to use columns planning to be put into that table), breed, gender+age+weight, and reaction (outcome+react_term_name+updated_first_exp+updated_last_exp)"
   ]
  },
  {
   "cell_type": "code",
   "execution_count": 55,
   "id": "bd4b9474",
   "metadata": {},
   "outputs": [],
   "source": [
    "from sklearn.preprocessing import LabelEncoder\n",
    "\n",
    "class_labels = LabelEncoder()\n",
    "dog_df['breed_id']=class_labels.fit_transform(dog_df['breed'].values)\n"
   ]
  },
  {
   "cell_type": "code",
   "execution_count": 56,
   "id": "dd0f9874",
   "metadata": {},
   "outputs": [],
   "source": [
    "#dog_df['drug_info']=dog_df.dog_df[['drug','admin_by','route','dosage_form']]\n",
    "dog_df['drug_info'] = dog_df['drug'] + dog_df['admin_by'] + dog_df['route'] + dog_df['dosage_form']"
   ]
  },
  {
   "cell_type": "code",
   "execution_count": 57,
   "id": "a1f508a5",
   "metadata": {},
   "outputs": [
    {
     "data": {
      "text/plain": [
       "SpinosadAnimal OwnerOralTablet, chewable                                                         150\n",
       "IvermectinAnimal OwnerOralTablet, chewable                                                        49\n",
       "Milbemycin OximeAnimal OwnerOralTablet, chewable                                                  25\n",
       "IvermectinUnknownOralTablet, chewable                                                             20\n",
       "AfoxolanerAnimal OwnerOralTablet, chewable                                                        16\n",
       "Milbemycin OximeAnimal OwnerOralTablet                                                            13\n",
       "NitenpyramAnimal OwnerOralTablet                                                                   8\n",
       "ImidaclopridAnimal OwnerTopicalSolution                                                            7\n",
       "Milbemycin Oxime, LufenuronAnimal OwnerOralTablet                                                  7\n",
       "Oclacitinib MaleateAnimal OwnerOralTablet                                                          6\n",
       "SarolanerAnimal OwnerOralTablet, chewable                                                          6\n",
       "Melarsomine Dihydrochloride InjectionVeterinarianIntramuscularSuspension                           6\n",
       "MoxidectinVeterinarianSubcutaneousSuspension                                                       6\n",
       "MoxidectinUnknownSubcutaneousSuspension                                                            5\n",
       "Ivermectin/Pyrantel Pamoate Chewable 272Mcg/652MgAnimal OwnerOralTablet, chewable                  5\n",
       "Ivermectin/Pyrantel Pamoate Chewable 136Mcg/326MgAnimal OwnerOralTablet, chewable                  5\n",
       "Ivermectin 272Mcg, Pyrantel Pamoate 228Mg, Praziquantel 228MgAnimal OwnerOralTablet, chewable      5\n",
       "Milbemcyin Oxime, Lufenuron, PraziquantelAnimal OwnerOralTablet, chewable                          5\n",
       "Pyrantel Pamoate;SarolanerAnimal OwnerOralTablet, chewable                                         5\n",
       "Fluralaner Chew TabletsAnimal OwnerOralTablet, chewable                                            5\n",
       "AfoxolanerUnknownOralTablet, chewable                                                              5\n",
       "Ivermectin/Pyrantel Pamoate Chewable 68Mcg/163MgAnimal OwnerOralTablet, chewable                   4\n",
       "SelamectinAnimal OwnerTopicalSolution                                                              4\n",
       "Cyclosporine AAnimal OwnerOralCapsule                                                              4\n",
       "TrilostaneAnimal OwnerOralCapsule                                                                  3\n",
       "Melarsomine DihydrochlorideVeterinarianIntramuscularSuspension                                     3\n",
       "Pyrantel Pamoate/PraziquantelAnimal OwnerOralTablet                                                3\n",
       "FlorfenicolVeterinarianUnknownSolution                                                             2\n",
       "Pyrantel PamoatePatientOralTablet, chewable                                                        2\n",
       "GrapiprantAnimal OwnerOralTablet                                                                   2\n",
       "IvermectinUnknownOralTablet                                                                        2\n",
       "CarprofenAnimal OwnerOralTablet, chewable                                                          2\n",
       "LotilanerOtherOralTablet, chewable                                                                 1\n",
       "Maropitant CitrateVeterinarianSubcutaneousInjection                                                1\n",
       "Afoxolaner 136 Mg Chewable TabletsAnimal OwnerOralTablet, chewable                                 1\n",
       "FlorfenicolVeterinarianAuricular (Otic)Gel                                                         1\n",
       "Afoxolaner 136 Mg Chewable TabletsUnknownOralTablet, chewable                                      1\n",
       "Maropitant CitrateVeterinarianUnknownInjection                                                     1\n",
       "IvermectinPatientOralTablet, chewable                                                              1\n",
       "Melarsomine Dihydrochloride InjectionUnknownIntramuscularSuspension                                1\n",
       "NitenpyramOtherOralTablet                                                                          1\n",
       "AfoxolanerAnimal OwnerUnknownTablet, chewable                                                      1\n",
       "LotilanerAnimal OwnerOralTablet, chewable                                                          1\n",
       "SpinosadUnknownOralTablet, chewable                                                                1\n",
       "SarolanerVeterinarianOralTablet, chewable                                                          1\n",
       "Afoxolaner 68 Mg Chewable TabletsUnknownUnknownTablet, chewable                                    1\n",
       "Afoxolaner 68 Mg Chewable TabletsUnknownOralTablet, chewable                                       1\n",
       "MoxidectinVeterinarianUnknownSuspension                                                            1\n",
       "Melarsomine DihydrochlorideVeterinarianIntramuscularPowder                                         1\n",
       "CarprofenAnimal OwnerOralTablet                                                                    1\n",
       "Polysulfated GlycosaminoglycanUnknownParenteralSolution                                            1\n",
       "Polysulfated GlycosaminoglycanAnimal OwnerIntramuscularSolution                                    1\n",
       "Fluralaner Chew TabletsOtherOralTablet, chewable                                                   1\n",
       "MoxidectinOther Health Care ProfessionalSubcutaneousSuspension                                     1\n",
       "Pyrantel PamoateAnimal OwnerOralTablet, chewable                                                   1\n",
       "ImidaclopridOtherOtherSolution                                                                     1\n",
       "Ivermectin 272Mcg, Pyrantel Pamoate 228Mg, Praziquantel 228MgOtherOralTablet, chewable             1\n",
       "Name: drug_info, dtype: int64"
      ]
     },
     "execution_count": 57,
     "metadata": {},
     "output_type": "execute_result"
    }
   ],
   "source": [
    "dog_df['drug_info'].value_counts()"
   ]
  },
  {
   "cell_type": "code",
   "execution_count": 58,
   "id": "e71a0956",
   "metadata": {},
   "outputs": [],
   "source": [
    "dog_df['drug_id']=class_labels.fit_transform(dog_df['drug_info'].values)"
   ]
  },
  {
   "cell_type": "code",
   "execution_count": 59,
   "id": "2df7f124",
   "metadata": {},
   "outputs": [],
   "source": [
    "dog_df['breed_specs']=dog_df['gender'] + dog_df['age'].astype(str) + dog_df['weight'].astype(str) + dog_df['breed_id'].astype(str)"
   ]
  },
  {
   "cell_type": "code",
   "execution_count": 60,
   "id": "a154db86",
   "metadata": {},
   "outputs": [
    {
     "data": {
      "text/plain": [
       "Male73939      2\n",
       "Male52013      2\n",
       "Female51313    2\n",
       "Female2427     2\n",
       "Female4227     2\n",
       "              ..\n",
       "Female11248    1\n",
       "Female11155    1\n",
       "Male5652       1\n",
       "Female12741    1\n",
       "Female42913    1\n",
       "Name: breed_specs, Length: 408, dtype: int64"
      ]
     },
     "execution_count": 60,
     "metadata": {},
     "output_type": "execute_result"
    }
   ],
   "source": [
    "dog_df['breed_specs'].value_counts()"
   ]
  },
  {
   "cell_type": "code",
   "execution_count": 61,
   "id": "6abb443e",
   "metadata": {},
   "outputs": [],
   "source": [
    "dog_df['breed_specs_id']=class_labels.fit_transform(dog_df['breed_specs'].values)\n"
   ]
  },
  {
   "cell_type": "code",
   "execution_count": 62,
   "id": "a8a7a3d4",
   "metadata": {},
   "outputs": [],
   "source": [
    "dog_df['react_info']=dog_df['outcome']+dog_df['react_term_name']+dog_df['updated_first_exp'].astype(str)+dog_df['updated_last_exp'].astype(str)\n",
    "dog_df['react_id']=class_labels.fit_transform(dog_df['react_info'].values)"
   ]
  },
  {
   "cell_type": "code",
   "execution_count": 63,
   "id": "01d073bc",
   "metadata": {},
   "outputs": [
    {
     "name": "stdout",
     "output_type": "stream",
     "text": [
      "<class 'pandas.core.frame.DataFrame'>\n",
      "RangeIndex: 415 entries, 0 to 414\n",
      "Data columns (total 22 columns):\n",
      " #   Column             Non-Null Count  Dtype \n",
      "---  ------             --------------  ----- \n",
      " 0   species            415 non-null    object\n",
      " 1   gender             415 non-null    object\n",
      " 2   age                415 non-null    int64 \n",
      " 3   weight             415 non-null    int64 \n",
      " 4   breed              415 non-null    object\n",
      " 5   drug               415 non-null    object\n",
      " 6   outcome            415 non-null    object\n",
      " 7   date_in            415 non-null    int64 \n",
      " 8   react_term_code    415 non-null    int64 \n",
      " 9   react_term_name    415 non-null    object\n",
      " 10  admin_by           415 non-null    object\n",
      " 11  route              415 non-null    object\n",
      " 12  dosage_form        415 non-null    object\n",
      " 13  updated_first_exp  415 non-null    object\n",
      " 14  updated_last_exp   415 non-null    object\n",
      " 15  breed_id           415 non-null    int32 \n",
      " 16  drug_info          415 non-null    object\n",
      " 17  drug_id            415 non-null    int32 \n",
      " 18  breed_specs        415 non-null    object\n",
      " 19  breed_specs_id     415 non-null    int32 \n",
      " 20  react_info         415 non-null    object\n",
      " 21  react_id           415 non-null    int32 \n",
      "dtypes: int32(4), int64(4), object(14)\n",
      "memory usage: 65.0+ KB\n"
     ]
    }
   ],
   "source": [
    "dog_df.info()"
   ]
  },
  {
   "cell_type": "markdown",
   "id": "f82cd8a4",
   "metadata": {},
   "source": [
    "Now that I've added the id's I need, I am removing the intermediate columns created during this process (breed_specs, react_info, and drug_info)"
   ]
  },
  {
   "cell_type": "code",
   "execution_count": 64,
   "id": "c52e9444",
   "metadata": {},
   "outputs": [],
   "source": [
    "dog_df.drop(['breed_specs', 'react_info', 'drug_info'], axis='columns', inplace=True)\n"
   ]
  },
  {
   "cell_type": "markdown",
   "id": "937f14ff",
   "metadata": {},
   "source": [
    "Decided to split the dog_df into multiple dataframes to make loading to postgres easier.\n",
    "- Breed will contain breed_id and breed\n",
    "- Breed_specs will contain breed_specs_id, breed_id, gender, age, weight\n",
    "- Drug_t will contain drug_id, drug, admin_by, route, dosage_form\n",
    "- React will contain react_id, react_term_name, outcome, updated_first_exp, updated_last_exp"
   ]
  },
  {
   "cell_type": "code",
   "execution_count": 65,
   "id": "74e4046c",
   "metadata": {},
   "outputs": [],
   "source": [
    "breed_df = dog_df.filter(['breed_id','breed'], axis=1)\n",
    "breed_specs_df = dog_df.filter(['breed_id', 'gender', 'age', 'weight'], axis=1)\n",
    "drug_t_df = dog_df.filter(['drug_id', 'drug', 'admin_by', 'route', 'dosage_form'], axis=1)\n",
    "react_df = dog_df.filter(['react_id', 'react_term_name', 'outcome', 'updated_first_exp', 'updated_last_exp'], axis=1)"
   ]
  },
  {
   "cell_type": "code",
   "execution_count": 66,
   "id": "95ae523a",
   "metadata": {},
   "outputs": [],
   "source": [
    "breed_specs_df.insert(0, 'breed_specs_id', range(0, 0 + len(breed_specs_df)))"
   ]
  },
  {
   "cell_type": "code",
   "execution_count": 67,
   "id": "556dcf4d",
   "metadata": {},
   "outputs": [],
   "source": [
    "breed_drug_df = dog_df.filter(['breed_id', 'drug_id'], axis=1)\n",
    "breed_drug_df.insert(0, 'b_drug_id', range(0, 0 + len(breed_drug_df)))\n",
    "\n",
    "drug_react_df = dog_df.filter(['react_id', 'drug_id'], axis=1)\n",
    "drug_react_df.insert(0, 'd_react_id', range(0, 0 + len(drug_react_df)))\n",
    "\n"
   ]
  },
  {
   "cell_type": "code",
   "execution_count": 68,
   "id": "24730cb0",
   "metadata": {},
   "outputs": [
    {
     "data": {
      "text/html": [
       "<div>\n",
       "<style scoped>\n",
       "    .dataframe tbody tr th:only-of-type {\n",
       "        vertical-align: middle;\n",
       "    }\n",
       "\n",
       "    .dataframe tbody tr th {\n",
       "        vertical-align: top;\n",
       "    }\n",
       "\n",
       "    .dataframe thead th {\n",
       "        text-align: right;\n",
       "    }\n",
       "</style>\n",
       "<table border=\"1\" class=\"dataframe\">\n",
       "  <thead>\n",
       "    <tr style=\"text-align: right;\">\n",
       "      <th></th>\n",
       "      <th>breed_specs_id</th>\n",
       "      <th>breed_id</th>\n",
       "      <th>gender</th>\n",
       "      <th>age</th>\n",
       "      <th>weight</th>\n",
       "    </tr>\n",
       "  </thead>\n",
       "  <tbody>\n",
       "    <tr>\n",
       "      <th>0</th>\n",
       "      <td>0</td>\n",
       "      <td>58</td>\n",
       "      <td>Female</td>\n",
       "      <td>7</td>\n",
       "      <td>5</td>\n",
       "    </tr>\n",
       "    <tr>\n",
       "      <th>1</th>\n",
       "      <td>1</td>\n",
       "      <td>41</td>\n",
       "      <td>Female</td>\n",
       "      <td>14</td>\n",
       "      <td>7</td>\n",
       "    </tr>\n",
       "    <tr>\n",
       "      <th>2</th>\n",
       "      <td>2</td>\n",
       "      <td>18</td>\n",
       "      <td>Male</td>\n",
       "      <td>14</td>\n",
       "      <td>36</td>\n",
       "    </tr>\n",
       "    <tr>\n",
       "      <th>3</th>\n",
       "      <td>3</td>\n",
       "      <td>21</td>\n",
       "      <td>Female</td>\n",
       "      <td>5</td>\n",
       "      <td>39</td>\n",
       "    </tr>\n",
       "    <tr>\n",
       "      <th>4</th>\n",
       "      <td>4</td>\n",
       "      <td>34</td>\n",
       "      <td>Male</td>\n",
       "      <td>9</td>\n",
       "      <td>5</td>\n",
       "    </tr>\n",
       "  </tbody>\n",
       "</table>\n",
       "</div>"
      ],
      "text/plain": [
       "   breed_specs_id  breed_id  gender  age  weight\n",
       "0               0        58  Female    7       5\n",
       "1               1        41  Female   14       7\n",
       "2               2        18    Male   14      36\n",
       "3               3        21  Female    5      39\n",
       "4               4        34    Male    9       5"
      ]
     },
     "execution_count": 68,
     "metadata": {},
     "output_type": "execute_result"
    }
   ],
   "source": [
    "breed_specs_df.head()"
   ]
  },
  {
   "cell_type": "code",
   "execution_count": 69,
   "id": "fba7b3e7",
   "metadata": {},
   "outputs": [
    {
     "data": {
      "text/html": [
       "<div>\n",
       "<style scoped>\n",
       "    .dataframe tbody tr th:only-of-type {\n",
       "        vertical-align: middle;\n",
       "    }\n",
       "\n",
       "    .dataframe tbody tr th {\n",
       "        vertical-align: top;\n",
       "    }\n",
       "\n",
       "    .dataframe thead th {\n",
       "        text-align: right;\n",
       "    }\n",
       "</style>\n",
       "<table border=\"1\" class=\"dataframe\">\n",
       "  <thead>\n",
       "    <tr style=\"text-align: right;\">\n",
       "      <th></th>\n",
       "      <th>b_drug_id</th>\n",
       "      <th>breed_id</th>\n",
       "      <th>drug_id</th>\n",
       "    </tr>\n",
       "  </thead>\n",
       "  <tbody>\n",
       "    <tr>\n",
       "      <th>0</th>\n",
       "      <td>0</td>\n",
       "      <td>58</td>\n",
       "      <td>54</td>\n",
       "    </tr>\n",
       "    <tr>\n",
       "      <th>1</th>\n",
       "      <td>1</td>\n",
       "      <td>41</td>\n",
       "      <td>54</td>\n",
       "    </tr>\n",
       "    <tr>\n",
       "      <th>2</th>\n",
       "      <td>2</td>\n",
       "      <td>18</td>\n",
       "      <td>22</td>\n",
       "    </tr>\n",
       "    <tr>\n",
       "      <th>3</th>\n",
       "      <td>3</td>\n",
       "      <td>21</td>\n",
       "      <td>16</td>\n",
       "    </tr>\n",
       "    <tr>\n",
       "      <th>4</th>\n",
       "      <td>4</td>\n",
       "      <td>34</td>\n",
       "      <td>22</td>\n",
       "    </tr>\n",
       "  </tbody>\n",
       "</table>\n",
       "</div>"
      ],
      "text/plain": [
       "   b_drug_id  breed_id  drug_id\n",
       "0          0        58       54\n",
       "1          1        41       54\n",
       "2          2        18       22\n",
       "3          3        21       16\n",
       "4          4        34       22"
      ]
     },
     "execution_count": 69,
     "metadata": {},
     "output_type": "execute_result"
    }
   ],
   "source": [
    "breed_drug_df.head()"
   ]
  },
  {
   "cell_type": "code",
   "execution_count": 70,
   "id": "5b77edd7",
   "metadata": {},
   "outputs": [
    {
     "data": {
      "text/html": [
       "<div>\n",
       "<style scoped>\n",
       "    .dataframe tbody tr th:only-of-type {\n",
       "        vertical-align: middle;\n",
       "    }\n",
       "\n",
       "    .dataframe tbody tr th {\n",
       "        vertical-align: top;\n",
       "    }\n",
       "\n",
       "    .dataframe thead th {\n",
       "        text-align: right;\n",
       "    }\n",
       "</style>\n",
       "<table border=\"1\" class=\"dataframe\">\n",
       "  <thead>\n",
       "    <tr style=\"text-align: right;\">\n",
       "      <th></th>\n",
       "      <th>d_react_id</th>\n",
       "      <th>react_id</th>\n",
       "      <th>drug_id</th>\n",
       "    </tr>\n",
       "  </thead>\n",
       "  <tbody>\n",
       "    <tr>\n",
       "      <th>0</th>\n",
       "      <td>0</td>\n",
       "      <td>324</td>\n",
       "      <td>54</td>\n",
       "    </tr>\n",
       "    <tr>\n",
       "      <th>1</th>\n",
       "      <td>1</td>\n",
       "      <td>318</td>\n",
       "      <td>54</td>\n",
       "    </tr>\n",
       "    <tr>\n",
       "      <th>2</th>\n",
       "      <td>2</td>\n",
       "      <td>97</td>\n",
       "      <td>22</td>\n",
       "    </tr>\n",
       "    <tr>\n",
       "      <th>3</th>\n",
       "      <td>3</td>\n",
       "      <td>109</td>\n",
       "      <td>16</td>\n",
       "    </tr>\n",
       "    <tr>\n",
       "      <th>4</th>\n",
       "      <td>4</td>\n",
       "      <td>94</td>\n",
       "      <td>22</td>\n",
       "    </tr>\n",
       "  </tbody>\n",
       "</table>\n",
       "</div>"
      ],
      "text/plain": [
       "   d_react_id  react_id  drug_id\n",
       "0           0       324       54\n",
       "1           1       318       54\n",
       "2           2        97       22\n",
       "3           3       109       16\n",
       "4           4        94       22"
      ]
     },
     "execution_count": 70,
     "metadata": {},
     "output_type": "execute_result"
    }
   ],
   "source": [
    "drug_react_df.head()"
   ]
  },
  {
   "cell_type": "markdown",
   "id": "f5e95522",
   "metadata": {},
   "source": [
    "need to drop duplicates from some of these dataframes since they are \"domain tables\""
   ]
  },
  {
   "cell_type": "code",
   "execution_count": 71,
   "id": "83f31677",
   "metadata": {},
   "outputs": [
    {
     "data": {
      "text/plain": [
       "breed_id  breed                \n",
       "39        Retriever - Labrador     62\n",
       "13        Crossbred Canine/dog     30\n",
       "47        Shepherd Dog - German    21\n",
       "8         Chihuahua                20\n",
       "2         Beagle                   15\n",
       "                                   ..\n",
       "28        Mastiff                   2\n",
       "30        Mountain Cur              2\n",
       "33        Poodle                    2\n",
       "61        Weimaraner                2\n",
       "20        Dog (other                1\n",
       "Length: 62, dtype: int64"
      ]
     },
     "execution_count": 71,
     "metadata": {},
     "output_type": "execute_result"
    }
   ],
   "source": [
    "breed_df.value_counts()"
   ]
  },
  {
   "cell_type": "code",
   "execution_count": 72,
   "id": "c6fcaf61",
   "metadata": {},
   "outputs": [],
   "source": [
    "\n",
    "breed_df=breed_df.drop_duplicates()\n"
   ]
  },
  {
   "cell_type": "code",
   "execution_count": 73,
   "id": "4cf3a2a6",
   "metadata": {},
   "outputs": [
    {
     "data": {
      "text/plain": [
       "breed_id  breed                          \n",
       "0         Akita                              1\n",
       "46        Shepherd Dog - Belgian Malinois    1\n",
       "33        Poodle                             1\n",
       "34        Poodle - Miniature                 1\n",
       "35        Poodle - Standard                  1\n",
       "                                            ..\n",
       "25        Hound                              1\n",
       "26        Hound - Basset                     1\n",
       "27        Maltese                            1\n",
       "28        Mastiff                            1\n",
       "61        Weimaraner                         1\n",
       "Length: 62, dtype: int64"
      ]
     },
     "execution_count": 73,
     "metadata": {},
     "output_type": "execute_result"
    }
   ],
   "source": [
    "breed_df.value_counts()"
   ]
  },
  {
   "cell_type": "code",
   "execution_count": 74,
   "id": "1c7872b8",
   "metadata": {},
   "outputs": [
    {
     "name": "stdout",
     "output_type": "stream",
     "text": [
      "<class 'pandas.core.frame.DataFrame'>\n",
      "RangeIndex: 415 entries, 0 to 414\n",
      "Data columns (total 5 columns):\n",
      " #   Column       Non-Null Count  Dtype \n",
      "---  ------       --------------  ----- \n",
      " 0   drug_id      415 non-null    int32 \n",
      " 1   drug         415 non-null    object\n",
      " 2   admin_by     415 non-null    object\n",
      " 3   route        415 non-null    object\n",
      " 4   dosage_form  415 non-null    object\n",
      "dtypes: int32(1), object(4)\n",
      "memory usage: 14.7+ KB\n"
     ]
    }
   ],
   "source": [
    "drug_t_df.info()"
   ]
  },
  {
   "cell_type": "code",
   "execution_count": 75,
   "id": "4984b2fd",
   "metadata": {},
   "outputs": [
    {
     "data": {
      "text/plain": [
       "b_drug_id  breed_id  drug_id\n",
       "0          58        54         1\n",
       "273        13        22         1\n",
       "283        10        19         1\n",
       "282        13        15         1\n",
       "281        51        39         1\n",
       "                               ..\n",
       "135        48        54         1\n",
       "134        53        54         1\n",
       "133        47        54         1\n",
       "132        48        54         1\n",
       "414        13        54         1\n",
       "Length: 415, dtype: int64"
      ]
     },
     "execution_count": 75,
     "metadata": {},
     "output_type": "execute_result"
    }
   ],
   "source": [
    "breed_drug_df.value_counts()"
   ]
  },
  {
   "cell_type": "code",
   "execution_count": 76,
   "id": "5759228a",
   "metadata": {},
   "outputs": [
    {
     "data": {
      "text/plain": [
       "d_react_id  react_id  drug_id\n",
       "0           324       54         1\n",
       "273         178       22         1\n",
       "283         58        19         1\n",
       "282         250       15         1\n",
       "281         308       39         1\n",
       "                                ..\n",
       "135         251       54         1\n",
       "134         232       54         1\n",
       "133         107       54         1\n",
       "132         304       54         1\n",
       "414         369       54         1\n",
       "Length: 415, dtype: int64"
      ]
     },
     "execution_count": 76,
     "metadata": {},
     "output_type": "execute_result"
    }
   ],
   "source": [
    "drug_react_df.value_counts()"
   ]
  },
  {
   "cell_type": "code",
   "execution_count": 77,
   "id": "d9f3a49c",
   "metadata": {},
   "outputs": [
    {
     "data": {
      "text/plain": [
       "breed_specs_id  breed_id  gender  age  weight\n",
       "0               58        Female  7    5         1\n",
       "273             13        Female  2    15        1\n",
       "283             10        Male    2    22        1\n",
       "282             13        Male    13   20        1\n",
       "281             51        Female  15   7         1\n",
       "                                                ..\n",
       "135             48        Female  2    3         1\n",
       "134             53        Male    1    5         1\n",
       "133             47        Male    5    24        1\n",
       "132             48        Female  4    8         1\n",
       "414             13        Female  4    29        1\n",
       "Length: 415, dtype: int64"
      ]
     },
     "execution_count": 77,
     "metadata": {},
     "output_type": "execute_result"
    }
   ],
   "source": [
    "breed_specs_df.value_counts()"
   ]
  },
  {
   "cell_type": "code",
   "execution_count": 78,
   "id": "b9715ef1",
   "metadata": {},
   "outputs": [],
   "source": [
    "drug_t_df=drug_t_df.drop_duplicates() \n",
    "breed_drug_df=breed_drug_df.drop_duplicates()\n",
    "drug_react_df=drug_react_df.drop_duplicates()\n",
    "breed_specs_df=breed_specs_df.drop_duplicates()"
   ]
  },
  {
   "cell_type": "code",
   "execution_count": 79,
   "id": "39632fcc",
   "metadata": {},
   "outputs": [
    {
     "name": "stdout",
     "output_type": "stream",
     "text": [
      "<class 'pandas.core.frame.DataFrame'>\n",
      "Int64Index: 57 entries, 0 to 400\n",
      "Data columns (total 5 columns):\n",
      " #   Column       Non-Null Count  Dtype \n",
      "---  ------       --------------  ----- \n",
      " 0   drug_id      57 non-null     int32 \n",
      " 1   drug         57 non-null     object\n",
      " 2   admin_by     57 non-null     object\n",
      " 3   route        57 non-null     object\n",
      " 4   dosage_form  57 non-null     object\n",
      "dtypes: int32(1), object(4)\n",
      "memory usage: 2.4+ KB\n"
     ]
    }
   ],
   "source": [
    "drug_t_df.info()"
   ]
  },
  {
   "cell_type": "code",
   "execution_count": 80,
   "id": "81b25df1",
   "metadata": {},
   "outputs": [
    {
     "data": {
      "text/html": [
       "<div>\n",
       "<style scoped>\n",
       "    .dataframe tbody tr th:only-of-type {\n",
       "        vertical-align: middle;\n",
       "    }\n",
       "\n",
       "    .dataframe tbody tr th {\n",
       "        vertical-align: top;\n",
       "    }\n",
       "\n",
       "    .dataframe thead th {\n",
       "        text-align: right;\n",
       "    }\n",
       "</style>\n",
       "<table border=\"1\" class=\"dataframe\">\n",
       "  <thead>\n",
       "    <tr style=\"text-align: right;\">\n",
       "      <th></th>\n",
       "      <th>drug_id</th>\n",
       "      <th>drug</th>\n",
       "      <th>admin_by</th>\n",
       "      <th>route</th>\n",
       "      <th>dosage_form</th>\n",
       "    </tr>\n",
       "  </thead>\n",
       "  <tbody>\n",
       "    <tr>\n",
       "      <th>0</th>\n",
       "      <td>54</td>\n",
       "      <td>Spinosad</td>\n",
       "      <td>Animal Owner</td>\n",
       "      <td>Oral</td>\n",
       "      <td>Tablet, chewable</td>\n",
       "    </tr>\n",
       "    <tr>\n",
       "      <th>2</th>\n",
       "      <td>22</td>\n",
       "      <td>Ivermectin</td>\n",
       "      <td>Animal Owner</td>\n",
       "      <td>Oral</td>\n",
       "      <td>Tablet, chewable</td>\n",
       "    </tr>\n",
       "    <tr>\n",
       "      <th>3</th>\n",
       "      <td>16</td>\n",
       "      <td>Imidacloprid</td>\n",
       "      <td>Other</td>\n",
       "      <td>Other</td>\n",
       "      <td>Solution</td>\n",
       "    </tr>\n",
       "    <tr>\n",
       "      <th>5</th>\n",
       "      <td>40</td>\n",
       "      <td>Moxidectin</td>\n",
       "      <td>Veterinarian</td>\n",
       "      <td>Subcutaneous</td>\n",
       "      <td>Suspension</td>\n",
       "    </tr>\n",
       "    <tr>\n",
       "      <th>7</th>\n",
       "      <td>42</td>\n",
       "      <td>Nitenpyram</td>\n",
       "      <td>Animal Owner</td>\n",
       "      <td>Oral</td>\n",
       "      <td>Tablet</td>\n",
       "    </tr>\n",
       "  </tbody>\n",
       "</table>\n",
       "</div>"
      ],
      "text/plain": [
       "   drug_id          drug      admin_by         route       dosage_form\n",
       "0       54      Spinosad  Animal Owner          Oral  Tablet, chewable\n",
       "2       22    Ivermectin  Animal Owner          Oral  Tablet, chewable\n",
       "3       16  Imidacloprid         Other         Other          Solution\n",
       "5       40    Moxidectin  Veterinarian  Subcutaneous        Suspension\n",
       "7       42    Nitenpyram  Animal Owner          Oral            Tablet"
      ]
     },
     "execution_count": 80,
     "metadata": {},
     "output_type": "execute_result"
    }
   ],
   "source": [
    "drug_t_df.head()"
   ]
  },
  {
   "cell_type": "markdown",
   "id": "9698c09c",
   "metadata": {},
   "source": [
    "Since there are commas in the actual drug name field as well as the dosage, replacing the commas with periods to not mess the csv file up later. Replacing commas in breed and react_term_name with spaces."
   ]
  },
  {
   "cell_type": "code",
   "execution_count": 81,
   "id": "dff41df3",
   "metadata": {},
   "outputs": [],
   "source": [
    "drug_t_df['drug']=drug_t_df['drug'].str.replace(',','.')\n",
    "drug_t_df['dosage_form']=drug_t_df['dosage_form'].str.replace(',','.')\n",
    "breed_df['breed']=breed_df['breed'].str.replace(',',' ')\n",
    "react_df['react_term_name']=react_df['react_term_name'].str.replace(',',' ')"
   ]
  },
  {
   "cell_type": "code",
   "execution_count": 82,
   "id": "82645e19",
   "metadata": {},
   "outputs": [
    {
     "data": {
      "text/plain": [
       "b_drug_id  breed_id  drug_id\n",
       "0          58        54         1\n",
       "273        13        22         1\n",
       "283        10        19         1\n",
       "282        13        15         1\n",
       "281        51        39         1\n",
       "                               ..\n",
       "135        48        54         1\n",
       "134        53        54         1\n",
       "133        47        54         1\n",
       "132        48        54         1\n",
       "414        13        54         1\n",
       "Length: 415, dtype: int64"
      ]
     },
     "execution_count": 82,
     "metadata": {},
     "output_type": "execute_result"
    }
   ],
   "source": [
    "breed_drug_df.value_counts()"
   ]
  },
  {
   "cell_type": "code",
   "execution_count": 83,
   "id": "2a1eb8d4",
   "metadata": {},
   "outputs": [
    {
     "data": {
      "text/plain": [
       "d_react_id  react_id  drug_id\n",
       "0           324       54         1\n",
       "273         178       22         1\n",
       "283         58        19         1\n",
       "282         250       15         1\n",
       "281         308       39         1\n",
       "                                ..\n",
       "135         251       54         1\n",
       "134         232       54         1\n",
       "133         107       54         1\n",
       "132         304       54         1\n",
       "414         369       54         1\n",
       "Length: 415, dtype: int64"
      ]
     },
     "execution_count": 83,
     "metadata": {},
     "output_type": "execute_result"
    }
   ],
   "source": [
    "drug_react_df.value_counts()"
   ]
  },
  {
   "cell_type": "code",
   "execution_count": 84,
   "id": "ace7060c",
   "metadata": {},
   "outputs": [
    {
     "data": {
      "text/plain": [
       "breed_specs_id  breed_id  gender  age  weight\n",
       "0               58        Female  7    5         1\n",
       "273             13        Female  2    15        1\n",
       "283             10        Male    2    22        1\n",
       "282             13        Male    13   20        1\n",
       "281             51        Female  15   7         1\n",
       "                                                ..\n",
       "135             48        Female  2    3         1\n",
       "134             53        Male    1    5         1\n",
       "133             47        Male    5    24        1\n",
       "132             48        Female  4    8         1\n",
       "414             13        Female  4    29        1\n",
       "Length: 415, dtype: int64"
      ]
     },
     "execution_count": 84,
     "metadata": {},
     "output_type": "execute_result"
    }
   ],
   "source": [
    "breed_specs_df.value_counts()"
   ]
  },
  {
   "cell_type": "markdown",
   "id": "505775fe",
   "metadata": {},
   "source": [
    "Write each of the new dataframes to csv files."
   ]
  },
  {
   "cell_type": "code",
   "execution_count": 85,
   "id": "c24473a4",
   "metadata": {},
   "outputs": [],
   "source": [
    "breed_df.to_csv(\"breed.csv\",index=False)\n"
   ]
  },
  {
   "cell_type": "code",
   "execution_count": 86,
   "id": "82ba8728",
   "metadata": {},
   "outputs": [],
   "source": [
    "breed_specs_df.to_csv(\"breed_specs.csv\",index=False)\n",
    "drug_t_df.to_csv(\"drug_t.csv\",index=False)\n",
    "react_df.to_csv(\"react.csv\",index=False)\n",
    "breed_drug_df.to_csv(\"breed_drug.csv\",index=False)\n",
    "drug_react_df.to_csv(\"drug_react.csv\",index=False)"
   ]
  },
  {
   "cell_type": "markdown",
   "id": "f953af55",
   "metadata": {},
   "source": [
    "## Database model \n"
   ]
  },
  {
   "attachments": {
    "Data_Model_dogs.svg": {
     "image/svg+xml": [
      "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"
     ]
    }
   },
   "cell_type": "markdown",
   "id": "4648f395",
   "metadata": {},
   "source": [
    "![Data_Model_dogs.svg](attachment:Data_Model_dogs.svg)"
   ]
  },
  {
   "cell_type": "markdown",
   "id": "de202d88",
   "metadata": {},
   "source": [
    "Begin the database work - create the tables, then populate with data. "
   ]
  },
  {
   "cell_type": "code",
   "execution_count": 88,
   "id": "20910ecb",
   "metadata": {},
   "outputs": [],
   "source": [
    "#Import the python driver for PostgreSQL\n",
    "import psycopg2\n",
    "from passwords import password\n"
   ]
  },
  {
   "cell_type": "markdown",
   "id": "1a5cf735",
   "metadata": {},
   "source": [
    "### Create tables"
   ]
  },
  {
   "cell_type": "code",
   "execution_count": 98,
   "id": "cc434cb4",
   "metadata": {},
   "outputs": [
    {
     "name": "stdout",
     "output_type": "stream",
     "text": [
      "Connection established\n",
      "Cursor opened\n",
      "Tables created\n",
      "Commit successful\n",
      "PostgreSQL cursor & connection is now closed\n"
     ]
    }
   ],
   "source": [
    "def create_tables():\n",
    "    \"\"\" Use create commands to add tables to dogs database in postgres\"\"\"\n",
    "    \n",
    "    commands = (\n",
    "        \"\"\"\n",
    "        CREATE TABLE Drug_t(\n",
    "        drug_id SERIAL PRIMARY KEY,\n",
    "        drug CHAR(65),\n",
    "        admin_by CHAR(30),\n",
    "        route CHAR(20),\n",
    "        dosage_form CHAR(20))\n",
    "        \"\"\",\n",
    "        \"\"\"\n",
    "        CREATE TABLE Breed_type(\n",
    "        breed_id SERIAL PRIMARY KEY,\n",
    "        breed CHAR(75))\n",
    "        \"\"\",\n",
    "        \"\"\"\n",
    "        CREATE TABLE Breed_specs(\n",
    "        breed_specs_id SERIAL PRIMARY KEY,\n",
    "        breed_id SERIAL REFERENCES Breed_type(breed_id),\n",
    "        gender CHAR(10),\n",
    "        age INTEGER,\n",
    "        weight INTEGER)\n",
    "        \"\"\",\n",
    "        \"\"\"\n",
    "        CREATE TABLE React(\n",
    "        react_id SERIAL PRIMARY KEY,\n",
    "        react_term_name CHAR(75), \n",
    "        outcome CHAR(30), \n",
    "        updated_first_exp DATE,\n",
    "        updated_last_exp DATE)\n",
    "        \"\"\",\n",
    "        \"\"\"\n",
    "        CREATE TABLE Breed_drug(\n",
    "        b_drug_id SERIAL PRIMARY KEY,\n",
    "        breed_id SERIAL REFERENCES Breed_type(breed_id), \n",
    "        drug_id SERIAL REFERENCES Drug_t(drug_id)) \n",
    "        \"\"\",\n",
    "        \"\"\"\n",
    "        CREATE TABLE Drug_react(\n",
    "        d_react_id SERIAL PRIMARY KEY,\n",
    "        react_id SERIAL REFERENCES React(react_id),\n",
    "        drug_id SERIAL REFERENCES Drug_t(drug_id))\n",
    "        \"\"\"\n",
    "        )\n",
    "    \n",
    "    \n",
    "    #Create a connection credentials to the PostgreSQL database\n",
    "    try:\n",
    "        conn = psycopg2.connect(user = \"postgres\", password = password, database = \"dogs\")\n",
    "        print(\"Connection established\")\n",
    "        \n",
    "        #Create a cursor connection object to a PostgreSQL instance \n",
    "        cur = conn.cursor()\n",
    "        print(\"Cursor opened\")\n",
    "    \n",
    "        for command in commands:\n",
    "            cur.execute(command)\n",
    "    \n",
    "        print(\"Tables created\")\n",
    "    \n",
    "        #Commit transaction and prints the result successfully\n",
    "        conn.commit()\n",
    "        print (\"Commit successful\")\n",
    "\n",
    "    #Handle the error throws by the command that is useful when using python while working with PostgreSQL\n",
    "    except(Exception, psycopg2.Error) as error:\n",
    "        print(\"Error connecting to PostgreSQL database\", error)\n",
    "        conn = None\n",
    "\n",
    "    #Close the database connection\n",
    "    finally:\n",
    "        if(conn != None):\n",
    "            cur.close()\n",
    "            conn.close()\n",
    "            print(\"PostgreSQL cursor & connection is now closed\")\n",
    "            \n",
    "if __name__ == '__main__':\n",
    "    create_tables()"
   ]
  },
  {
   "cell_type": "markdown",
   "id": "664791ca",
   "metadata": {},
   "source": [
    "## Tables have been created, ready to insert data"
   ]
  },
  {
   "cell_type": "markdown",
   "id": "b62a6f68",
   "metadata": {},
   "source": [
    "Open the csv files and use copy_from to load the data. Executing each table in a separate cell, in case of errors."
   ]
  },
  {
   "cell_type": "code",
   "execution_count": 99,
   "id": "dc9e525b",
   "metadata": {},
   "outputs": [],
   "source": [
    "def load_table_func(conn,csv_file,table_na):\n",
    "    cur = conn.cursor()\n",
    "    print(\"Cursor opened for processing csv \",csv_file)\n",
    "    \n",
    "    with open(csv_file,'r') as i:\n",
    "        # Skip the header row\n",
    "        next(i)\n",
    "        \n",
    "        # copy the table\n",
    "        cur.copy_from(i,table_na,sep=',',null='')\n",
    "    conn.commit()\n",
    "    cur.close()\n",
    "    conn.close()"
   ]
  },
  {
   "cell_type": "code",
   "execution_count": 100,
   "id": "ef4ce2ef",
   "metadata": {},
   "outputs": [
    {
     "name": "stdout",
     "output_type": "stream",
     "text": [
      "Connection established\n",
      "Cursor opened for processing csv  breed.csv\n"
     ]
    }
   ],
   "source": [
    "conn = psycopg2.connect(user = \"postgres\", password = password, database = \"dogs\")\n",
    "print(\"Connection established\")\n",
    "\n",
    "load_table_func(conn,'breed.csv','breed_type')\n"
   ]
  },
  {
   "cell_type": "markdown",
   "id": "64f9ef5a",
   "metadata": {},
   "source": [
    "Drug_t next"
   ]
  },
  {
   "cell_type": "code",
   "execution_count": 101,
   "id": "e524c31e",
   "metadata": {},
   "outputs": [
    {
     "name": "stdout",
     "output_type": "stream",
     "text": [
      "Connection established\n",
      "Cursor opened for processing csv  drug_t.csv\n"
     ]
    }
   ],
   "source": [
    "conn = psycopg2.connect(user = \"postgres\", password = password, database = \"dogs\")\n",
    "print(\"Connection established\")\n",
    "\n",
    "load_table_func(conn,'drug_t.csv','drug_t')"
   ]
  },
  {
   "cell_type": "markdown",
   "id": "11262652",
   "metadata": {},
   "source": [
    "Breed_specs"
   ]
  },
  {
   "cell_type": "code",
   "execution_count": 102,
   "id": "76026d6a",
   "metadata": {},
   "outputs": [
    {
     "name": "stdout",
     "output_type": "stream",
     "text": [
      "Connection established\n",
      "Cursor opened for processing csv  breed_specs.csv\n"
     ]
    }
   ],
   "source": [
    "conn = psycopg2.connect(user = \"postgres\", password = password, database = \"dogs\")\n",
    "print(\"Connection established\")\n",
    "\n",
    "load_table_func(conn,'breed_specs.csv','breed_specs')"
   ]
  },
  {
   "cell_type": "markdown",
   "id": "83e22181",
   "metadata": {},
   "source": [
    "React"
   ]
  },
  {
   "cell_type": "code",
   "execution_count": 103,
   "id": "743bf5d2",
   "metadata": {},
   "outputs": [
    {
     "name": "stdout",
     "output_type": "stream",
     "text": [
      "Connection established\n",
      "Cursor opened for processing csv  react.csv\n"
     ]
    }
   ],
   "source": [
    "conn = psycopg2.connect(user = \"postgres\", password = password, database = \"dogs\")\n",
    "print(\"Connection established\")\n",
    "\n",
    "load_table_func(conn,'react.csv','react')"
   ]
  },
  {
   "cell_type": "markdown",
   "id": "aac06e46",
   "metadata": {},
   "source": [
    "breed_drug"
   ]
  },
  {
   "cell_type": "code",
   "execution_count": 104,
   "id": "bbe357cb",
   "metadata": {},
   "outputs": [
    {
     "name": "stdout",
     "output_type": "stream",
     "text": [
      "Connection established\n",
      "Cursor opened for processing csv  breed_drug.csv\n"
     ]
    }
   ],
   "source": [
    "conn = psycopg2.connect(user = \"postgres\", password = password, database = \"dogs\")\n",
    "print(\"Connection established\")\n",
    "\n",
    "load_table_func(conn,'breed_drug.csv','breed_drug')"
   ]
  },
  {
   "cell_type": "markdown",
   "id": "47c4b949",
   "metadata": {},
   "source": [
    "drug_react"
   ]
  },
  {
   "cell_type": "code",
   "execution_count": 105,
   "id": "9e4c011b",
   "metadata": {},
   "outputs": [
    {
     "name": "stdout",
     "output_type": "stream",
     "text": [
      "Connection established\n",
      "Cursor opened for processing csv  drug_react.csv\n"
     ]
    }
   ],
   "source": [
    "conn = psycopg2.connect(user = \"postgres\", password = password, database = \"dogs\")\n",
    "print(\"Connection established\")\n",
    "\n",
    "load_table_func(conn,'drug_react.csv','drug_react')"
   ]
  },
  {
   "cell_type": "markdown",
   "id": "8691e191",
   "metadata": {},
   "source": [
    "Data is loaded in tables - I am sure I could have consolidated that a little more. Now need to do some selects to show and then some joins to show my data."
   ]
  },
  {
   "cell_type": "code",
   "execution_count": 107,
   "id": "e87915e3",
   "metadata": {},
   "outputs": [
    {
     "data": {
      "text/html": [
       "<div>\n",
       "<style scoped>\n",
       "    .dataframe tbody tr th:only-of-type {\n",
       "        vertical-align: middle;\n",
       "    }\n",
       "\n",
       "    .dataframe tbody tr th {\n",
       "        vertical-align: top;\n",
       "    }\n",
       "\n",
       "    .dataframe thead th {\n",
       "        text-align: right;\n",
       "    }\n",
       "</style>\n",
       "<table border=\"1\" class=\"dataframe\">\n",
       "  <thead>\n",
       "    <tr style=\"text-align: right;\">\n",
       "      <th></th>\n",
       "      <th>drug</th>\n",
       "    </tr>\n",
       "  </thead>\n",
       "  <tbody>\n",
       "    <tr>\n",
       "      <th>0</th>\n",
       "      <td>Melarsomine Dihydrochloride                   ...</td>\n",
       "    </tr>\n",
       "    <tr>\n",
       "      <th>1</th>\n",
       "      <td>Pyrantel Pamoate;Sarolaner                    ...</td>\n",
       "    </tr>\n",
       "    <tr>\n",
       "      <th>2</th>\n",
       "      <td>Nitenpyram                                    ...</td>\n",
       "    </tr>\n",
       "    <tr>\n",
       "      <th>3</th>\n",
       "      <td>Maropitant Citrate                            ...</td>\n",
       "    </tr>\n",
       "    <tr>\n",
       "      <th>4</th>\n",
       "      <td>Ivermectin/Pyrantel Pamoate Chewable 272Mcg/65...</td>\n",
       "    </tr>\n",
       "  </tbody>\n",
       "</table>\n",
       "</div>"
      ],
      "text/plain": [
       "                                                drug\n",
       "0  Melarsomine Dihydrochloride                   ...\n",
       "1  Pyrantel Pamoate;Sarolaner                    ...\n",
       "2  Nitenpyram                                    ...\n",
       "3  Maropitant Citrate                            ...\n",
       "4  Ivermectin/Pyrantel Pamoate Chewable 272Mcg/65..."
      ]
     },
     "execution_count": 107,
     "metadata": {},
     "output_type": "execute_result"
    }
   ],
   "source": [
    "with psycopg2.connect(user = \"postgres\", password = password, database = \"dogs\") as conn:\n",
    "    first_qry = \"\"\"SELECT DISTINCT(drug) \n",
    "                FROM drug_t\"\"\"\n",
    "    \n",
    "    first_res = pd.read_sql_query(first_qry,conn)\n",
    "\n",
    "first_res.head()"
   ]
  },
  {
   "cell_type": "code",
   "execution_count": 114,
   "id": "7c53a64b",
   "metadata": {},
   "outputs": [
    {
     "data": {
      "text/html": [
       "<div>\n",
       "<style scoped>\n",
       "    .dataframe tbody tr th:only-of-type {\n",
       "        vertical-align: middle;\n",
       "    }\n",
       "\n",
       "    .dataframe tbody tr th {\n",
       "        vertical-align: top;\n",
       "    }\n",
       "\n",
       "    .dataframe thead th {\n",
       "        text-align: right;\n",
       "    }\n",
       "</style>\n",
       "<table border=\"1\" class=\"dataframe\">\n",
       "  <thead>\n",
       "    <tr style=\"text-align: right;\">\n",
       "      <th></th>\n",
       "      <th>react_count</th>\n",
       "      <th>drug</th>\n",
       "    </tr>\n",
       "  </thead>\n",
       "  <tbody>\n",
       "    <tr>\n",
       "      <th>0</th>\n",
       "      <td>32</td>\n",
       "      <td>Spinosad                                      ...</td>\n",
       "    </tr>\n",
       "    <tr>\n",
       "      <th>1</th>\n",
       "      <td>7</td>\n",
       "      <td>Afoxolaner                                    ...</td>\n",
       "    </tr>\n",
       "    <tr>\n",
       "      <th>2</th>\n",
       "      <td>4</td>\n",
       "      <td>Milbemycin Oxime                              ...</td>\n",
       "    </tr>\n",
       "    <tr>\n",
       "      <th>3</th>\n",
       "      <td>3</td>\n",
       "      <td>Pyrantel Pamoate                              ...</td>\n",
       "    </tr>\n",
       "    <tr>\n",
       "      <th>4</th>\n",
       "      <td>2</td>\n",
       "      <td>Moxidectin                                    ...</td>\n",
       "    </tr>\n",
       "  </tbody>\n",
       "</table>\n",
       "</div>"
      ],
      "text/plain": [
       "   react_count                                               drug\n",
       "0           32  Spinosad                                      ...\n",
       "1            7  Afoxolaner                                    ...\n",
       "2            4  Milbemycin Oxime                              ...\n",
       "3            3  Pyrantel Pamoate                              ...\n",
       "4            2  Moxidectin                                    ..."
      ]
     },
     "execution_count": 114,
     "metadata": {},
     "output_type": "execute_result"
    }
   ],
   "source": [
    "# how many times do which drugs produce the reaction of vomiting?\n",
    "with psycopg2.connect(user = \"postgres\", password = password, database = \"dogs\") as conn:\n",
    "    sec_qry = \"\"\"SELECT COUNT(react_term_name) as react_count, d.drug \n",
    "            FROM react as r\n",
    "            INNER JOIN drug_react as dr\n",
    "            ON r.react_id = dr.react_id\n",
    "            INNER JOIN drug_t as d\n",
    "            ON dr.drug_id = d.drug_id\n",
    "            WHERE react_term_name = 'Vomiting'\n",
    "            GROUP BY d.drug\n",
    "            ORDER BY react_count DESC\"\"\"\n",
    "    sec_res = pd.read_sql_query(sec_qry,conn)\n",
    "\n",
    "sec_res.head()"
   ]
  },
  {
   "cell_type": "code",
   "execution_count": 111,
   "id": "49e3ac65",
   "metadata": {},
   "outputs": [
    {
     "data": {
      "text/html": [
       "<div>\n",
       "<style scoped>\n",
       "    .dataframe tbody tr th:only-of-type {\n",
       "        vertical-align: middle;\n",
       "    }\n",
       "\n",
       "    .dataframe tbody tr th {\n",
       "        vertical-align: top;\n",
       "    }\n",
       "\n",
       "    .dataframe thead th {\n",
       "        text-align: right;\n",
       "    }\n",
       "</style>\n",
       "<table border=\"1\" class=\"dataframe\">\n",
       "  <thead>\n",
       "    <tr style=\"text-align: right;\">\n",
       "      <th></th>\n",
       "      <th>breed</th>\n",
       "    </tr>\n",
       "  </thead>\n",
       "  <tbody>\n",
       "    <tr>\n",
       "      <th>0</th>\n",
       "      <td>Terrier - West Highland White                 ...</td>\n",
       "    </tr>\n",
       "    <tr>\n",
       "      <th>1</th>\n",
       "      <td>Schnauzer (unspecified                        ...</td>\n",
       "    </tr>\n",
       "    <tr>\n",
       "      <th>2</th>\n",
       "      <td>Doberman Pinscher                             ...</td>\n",
       "    </tr>\n",
       "    <tr>\n",
       "      <th>3</th>\n",
       "      <td>German Boxer                                  ...</td>\n",
       "    </tr>\n",
       "    <tr>\n",
       "      <th>4</th>\n",
       "      <td>Poodle - Miniature                            ...</td>\n",
       "    </tr>\n",
       "    <tr>\n",
       "      <th>...</th>\n",
       "      <td>...</td>\n",
       "    </tr>\n",
       "    <tr>\n",
       "      <th>57</th>\n",
       "      <td>Poodle                                        ...</td>\n",
       "    </tr>\n",
       "    <tr>\n",
       "      <th>58</th>\n",
       "      <td>American Pit Bull Terrier                     ...</td>\n",
       "    </tr>\n",
       "    <tr>\n",
       "      <th>59</th>\n",
       "      <td>Coonhound - Black and Tan                     ...</td>\n",
       "    </tr>\n",
       "    <tr>\n",
       "      <th>60</th>\n",
       "      <td>Great Pyrenees                                ...</td>\n",
       "    </tr>\n",
       "    <tr>\n",
       "      <th>61</th>\n",
       "      <td>Dog (other                                    ...</td>\n",
       "    </tr>\n",
       "  </tbody>\n",
       "</table>\n",
       "<p>62 rows × 1 columns</p>\n",
       "</div>"
      ],
      "text/plain": [
       "                                                breed\n",
       "0   Terrier - West Highland White                 ...\n",
       "1   Schnauzer (unspecified                        ...\n",
       "2   Doberman Pinscher                             ...\n",
       "3   German Boxer                                  ...\n",
       "4   Poodle - Miniature                            ...\n",
       "..                                                ...\n",
       "57  Poodle                                        ...\n",
       "58  American Pit Bull Terrier                     ...\n",
       "59  Coonhound - Black and Tan                     ...\n",
       "60  Great Pyrenees                                ...\n",
       "61  Dog (other                                    ...\n",
       "\n",
       "[62 rows x 1 columns]"
      ]
     },
     "execution_count": 111,
     "metadata": {},
     "output_type": "execute_result"
    }
   ],
   "source": [
    "# what are the different breeds that can be found in the dogs database?\n",
    "with psycopg2.connect(user = \"postgres\", password = password, database = \"dogs\") as conn:\n",
    "    third_qry = \"\"\"SELECT breed FROM breed_type\"\"\"\n",
    "    third_res = pd.read_sql_query(third_qry,conn)\n",
    "\n",
    "third_res"
   ]
  },
  {
   "cell_type": "code",
   "execution_count": 112,
   "id": "411bc0c9",
   "metadata": {},
   "outputs": [
    {
     "data": {
      "text/html": [
       "<div>\n",
       "<style scoped>\n",
       "    .dataframe tbody tr th:only-of-type {\n",
       "        vertical-align: middle;\n",
       "    }\n",
       "\n",
       "    .dataframe tbody tr th {\n",
       "        vertical-align: top;\n",
       "    }\n",
       "\n",
       "    .dataframe thead th {\n",
       "        text-align: right;\n",
       "    }\n",
       "</style>\n",
       "<table border=\"1\" class=\"dataframe\">\n",
       "  <thead>\n",
       "    <tr style=\"text-align: right;\">\n",
       "      <th></th>\n",
       "      <th>breed_count</th>\n",
       "      <th>breed</th>\n",
       "    </tr>\n",
       "  </thead>\n",
       "  <tbody>\n",
       "    <tr>\n",
       "      <th>0</th>\n",
       "      <td>62</td>\n",
       "      <td>Retriever - Labrador                          ...</td>\n",
       "    </tr>\n",
       "    <tr>\n",
       "      <th>1</th>\n",
       "      <td>30</td>\n",
       "      <td>Crossbred Canine/dog                          ...</td>\n",
       "    </tr>\n",
       "    <tr>\n",
       "      <th>2</th>\n",
       "      <td>21</td>\n",
       "      <td>Shepherd Dog - German                         ...</td>\n",
       "    </tr>\n",
       "    <tr>\n",
       "      <th>3</th>\n",
       "      <td>20</td>\n",
       "      <td>Chihuahua                                     ...</td>\n",
       "    </tr>\n",
       "    <tr>\n",
       "      <th>4</th>\n",
       "      <td>15</td>\n",
       "      <td>Beagle                                        ...</td>\n",
       "    </tr>\n",
       "    <tr>\n",
       "      <th>...</th>\n",
       "      <td>...</td>\n",
       "      <td>...</td>\n",
       "    </tr>\n",
       "    <tr>\n",
       "      <th>57</th>\n",
       "      <td>2</td>\n",
       "      <td>Dachshund - Miniature                         ...</td>\n",
       "    </tr>\n",
       "    <tr>\n",
       "      <th>58</th>\n",
       "      <td>2</td>\n",
       "      <td>Terrier (unspecified                          ...</td>\n",
       "    </tr>\n",
       "    <tr>\n",
       "      <th>59</th>\n",
       "      <td>2</td>\n",
       "      <td>Mountain Cur                                  ...</td>\n",
       "    </tr>\n",
       "    <tr>\n",
       "      <th>60</th>\n",
       "      <td>2</td>\n",
       "      <td>Collie (unspecified                           ...</td>\n",
       "    </tr>\n",
       "    <tr>\n",
       "      <th>61</th>\n",
       "      <td>1</td>\n",
       "      <td>Dog (other                                    ...</td>\n",
       "    </tr>\n",
       "  </tbody>\n",
       "</table>\n",
       "<p>62 rows × 2 columns</p>\n",
       "</div>"
      ],
      "text/plain": [
       "    breed_count                                              breed\n",
       "0            62  Retriever - Labrador                          ...\n",
       "1            30  Crossbred Canine/dog                          ...\n",
       "2            21  Shepherd Dog - German                         ...\n",
       "3            20  Chihuahua                                     ...\n",
       "4            15  Beagle                                        ...\n",
       "..          ...                                                ...\n",
       "57            2  Dachshund - Miniature                         ...\n",
       "58            2  Terrier (unspecified                          ...\n",
       "59            2  Mountain Cur                                  ...\n",
       "60            2  Collie (unspecified                           ...\n",
       "61            1  Dog (other                                    ...\n",
       "\n",
       "[62 rows x 2 columns]"
      ]
     },
     "execution_count": 112,
     "metadata": {},
     "output_type": "execute_result"
    }
   ],
   "source": [
    "# which breed shows most often in the dogs database?\n",
    "with psycopg2.connect(user = \"postgres\", password = password, database = \"dogs\") as conn:\n",
    "    fourth_qry = \"\"\"SELECT COUNT(breed) AS breed_count, breed \n",
    "            FROM breed_type AS bt\n",
    "            INNER JOIN breed_specs AS bs\n",
    "            ON bt.breed_id = bs.breed_id\n",
    "            GROUP BY breed\n",
    "            ORDER BY breed_count DESC\"\"\"\n",
    "    fourth_res = pd.read_sql_query(fourth_qry,conn)\n",
    "\n",
    "fourth_res"
   ]
  },
  {
   "cell_type": "code",
   "execution_count": 116,
   "id": "663bc532",
   "metadata": {},
   "outputs": [
    {
     "data": {
      "text/html": [
       "<div>\n",
       "<style scoped>\n",
       "    .dataframe tbody tr th:only-of-type {\n",
       "        vertical-align: middle;\n",
       "    }\n",
       "\n",
       "    .dataframe tbody tr th {\n",
       "        vertical-align: top;\n",
       "    }\n",
       "\n",
       "    .dataframe thead th {\n",
       "        text-align: right;\n",
       "    }\n",
       "</style>\n",
       "<table border=\"1\" class=\"dataframe\">\n",
       "  <thead>\n",
       "    <tr style=\"text-align: right;\">\n",
       "      <th></th>\n",
       "      <th>drug_count</th>\n",
       "      <th>drug</th>\n",
       "      <th>breed</th>\n",
       "    </tr>\n",
       "  </thead>\n",
       "  <tbody>\n",
       "    <tr>\n",
       "      <th>0</th>\n",
       "      <td>19</td>\n",
       "      <td>Spinosad                                      ...</td>\n",
       "      <td>Retriever - Labrador                          ...</td>\n",
       "    </tr>\n",
       "    <tr>\n",
       "      <th>1</th>\n",
       "      <td>13</td>\n",
       "      <td>Ivermectin                                    ...</td>\n",
       "      <td>Retriever - Labrador                          ...</td>\n",
       "    </tr>\n",
       "    <tr>\n",
       "      <th>2</th>\n",
       "      <td>10</td>\n",
       "      <td>Spinosad                                      ...</td>\n",
       "      <td>Crossbred Canine/dog                          ...</td>\n",
       "    </tr>\n",
       "    <tr>\n",
       "      <th>3</th>\n",
       "      <td>10</td>\n",
       "      <td>Milbemycin Oxime                              ...</td>\n",
       "      <td>Retriever - Labrador                          ...</td>\n",
       "    </tr>\n",
       "    <tr>\n",
       "      <th>4</th>\n",
       "      <td>9</td>\n",
       "      <td>Spinosad                                      ...</td>\n",
       "      <td>Terrier - Yorkshire                           ...</td>\n",
       "    </tr>\n",
       "  </tbody>\n",
       "</table>\n",
       "</div>"
      ],
      "text/plain": [
       "   drug_count                                               drug  \\\n",
       "0          19  Spinosad                                      ...   \n",
       "1          13  Ivermectin                                    ...   \n",
       "2          10  Spinosad                                      ...   \n",
       "3          10  Milbemycin Oxime                              ...   \n",
       "4           9  Spinosad                                      ...   \n",
       "\n",
       "                                               breed  \n",
       "0  Retriever - Labrador                          ...  \n",
       "1  Retriever - Labrador                          ...  \n",
       "2  Crossbred Canine/dog                          ...  \n",
       "3  Retriever - Labrador                          ...  \n",
       "4  Terrier - Yorkshire                           ...  "
      ]
     },
     "execution_count": 116,
     "metadata": {},
     "output_type": "execute_result"
    }
   ],
   "source": [
    "# which drugs are given to the different breeds most often?\n",
    "with psycopg2.connect(user = \"postgres\", password = password, database = \"dogs\") as conn:\n",
    "    fifth_qry = \"\"\"SELECT COUNT(d.drug) AS drug_count, d.drug, breed\n",
    "            FROM drug_t AS d\n",
    "            INNER JOIN breed_drug AS bd\n",
    "            ON d.drug_id = bd.drug_id\n",
    "            INNER JOIN breed_type AS bt\n",
    "            ON bd.breed_id = bt.breed_id\n",
    "            GROUP BY d.drug, breed\n",
    "            ORDER BY drug_count DESC\"\"\"\n",
    "    fifth_res = pd.read_sql_query(fifth_qry,conn)\n",
    "    \n",
    "fifth_res.head()"
   ]
  },
  {
   "cell_type": "code",
   "execution_count": 118,
   "id": "633a6957",
   "metadata": {},
   "outputs": [
    {
     "data": {
      "text/html": [
       "<div>\n",
       "<style scoped>\n",
       "    .dataframe tbody tr th:only-of-type {\n",
       "        vertical-align: middle;\n",
       "    }\n",
       "\n",
       "    .dataframe tbody tr th {\n",
       "        vertical-align: top;\n",
       "    }\n",
       "\n",
       "    .dataframe thead th {\n",
       "        text-align: right;\n",
       "    }\n",
       "</style>\n",
       "<table border=\"1\" class=\"dataframe\">\n",
       "  <thead>\n",
       "    <tr style=\"text-align: right;\">\n",
       "      <th></th>\n",
       "      <th>admin_by</th>\n",
       "      <th>count</th>\n",
       "    </tr>\n",
       "  </thead>\n",
       "  <tbody>\n",
       "    <tr>\n",
       "      <th>0</th>\n",
       "      <td>Veterinarian</td>\n",
       "      <td>10</td>\n",
       "    </tr>\n",
       "    <tr>\n",
       "      <th>1</th>\n",
       "      <td>Other Health Care Professional</td>\n",
       "      <td>1</td>\n",
       "    </tr>\n",
       "    <tr>\n",
       "      <th>2</th>\n",
       "      <td>Patient</td>\n",
       "      <td>2</td>\n",
       "    </tr>\n",
       "    <tr>\n",
       "      <th>3</th>\n",
       "      <td>Unknown</td>\n",
       "      <td>10</td>\n",
       "    </tr>\n",
       "    <tr>\n",
       "      <th>4</th>\n",
       "      <td>Other</td>\n",
       "      <td>5</td>\n",
       "    </tr>\n",
       "    <tr>\n",
       "      <th>5</th>\n",
       "      <td>Animal Owner</td>\n",
       "      <td>29</td>\n",
       "    </tr>\n",
       "  </tbody>\n",
       "</table>\n",
       "</div>"
      ],
      "text/plain": [
       "                         admin_by  count\n",
       "0  Veterinarian                       10\n",
       "1  Other Health Care Professional      1\n",
       "2  Patient                             2\n",
       "3  Unknown                            10\n",
       "4  Other                               5\n",
       "5  Animal Owner                       29"
      ]
     },
     "execution_count": 118,
     "metadata": {},
     "output_type": "execute_result"
    }
   ],
   "source": [
    "# who administers the drug to each dog?\n",
    "with psycopg2.connect(user = \"postgres\", password = password, database = \"dogs\") as conn:\n",
    "    sixth_qry = \"\"\"SELECT DISTINCT(admin_by), COUNT(admin_by) \n",
    "            FROM drug_t AS d\n",
    "            GROUP BY DISTINCT(admin_by)\"\"\"\n",
    "    sixth_res = pd.read_sql_query(sixth_qry,conn)\n",
    "    \n",
    "sixth_res"
   ]
  },
  {
   "cell_type": "code",
   "execution_count": null,
   "id": "5b5925b9",
   "metadata": {},
   "outputs": [],
   "source": []
  }
 ],
 "metadata": {
  "kernelspec": {
   "display_name": "Python 3 (ipykernel)",
   "language": "python",
   "name": "python3"
  },
  "language_info": {
   "codemirror_mode": {
    "name": "ipython",
    "version": 3
   },
   "file_extension": ".py",
   "mimetype": "text/x-python",
   "name": "python",
   "nbconvert_exporter": "python",
   "pygments_lexer": "ipython3",
   "version": "3.9.7"
  }
 },
 "nbformat": 4,
 "nbformat_minor": 5
}
